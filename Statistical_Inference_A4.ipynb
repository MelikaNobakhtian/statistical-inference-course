{
  "nbformat": 4,
  "nbformat_minor": 0,
  "metadata": {
    "colab": {
      "provenance": []
    },
    "kernelspec": {
      "name": "ir",
      "display_name": "R"
    },
    "language_info": {
      "name": "R"
    }
  },
  "cells": [
    {
      "cell_type": "markdown",
      "source": [
        "# Assignment 4: Statistical Inference"
      ],
      "metadata": {
        "id": "RALCw6ou2QMl"
      }
    },
    {
      "cell_type": "markdown",
      "source": [
        "# Q1"
      ],
      "metadata": {
        "id": "4fGCTNIzuutb"
      }
    },
    {
      "cell_type": "markdown",
      "source": [
        "Identify each of the following statements as true or false. Provide an explanation to justify each of your answers.\n",
        "\n",
        "* **a)**\tBy resampling the population with replacement, a bootstrap distribution is created.\n",
        "\n",
        "* **b)**\tSuppose that ANOVA at a 5% significance level rejects the null hypothesis that the means of the four groups are the same. Hence, the pairwise analysis will identify at least one pair of significantly different means.\n",
        "* **c)**\tA smaller sample size is recommended when generating resampled samples.\n",
        "* **d)**\tThe difference between each pair of observations is the starting point for a paired analysis. Then we use these differences to make inferences.\n",
        "* **e)**\tThere is a reverse relation between variance within an ANOVA group and the amount of noise (variance).\n",
        "* **f)**\tIn a test, we randomly sample 30 items from Amazon and note the price for each. Then we visit local markets and collect the price of each of those same 30 items. This is a paired t-test.\n",
        "* **g)**\tAn inference is made based on the difference between two observations in a paired analysis.\n",
        "* **h)**\tIn order to prevent Type-II errors, you should assign a large amount of 𝛽.\n"
      ],
      "metadata": {
        "id": "fMMJ4yez6ZkJ"
      }
    },
    {
      "cell_type": "markdown",
      "source": [
        "## Answer:"
      ],
      "metadata": {
        "id": "qn8P4Lcc7RBw"
      }
    },
    {
      "cell_type": "markdown",
      "source": [
        "* **a)** **False**, Acoording to the slides we have: Bootstrap distribution created using sampling (with replacement) from the **sample** while here we have resampling from **population**.\n",
        "\n",
        "* **b)** **True**, The alternative hypothesis in ANOVA test indicates that we have at least one pair of groups that their means are different.\n",
        "\n",
        "* **c)** **False**, Larger sample sizes are generally preferred for bootstrap distributions to provide a more accurate representation of the population distribution. Smaller samples might lead to less reliable estimates.\n",
        "\n",
        "* **d)** **True**, In paired analysis, the focus is on the differences between paired observations. These differences are then used to make inferences about the population from which the pairs are drawn.\n",
        "\n",
        "* **e)** **True**, ANOVA separates the total variance into \"within-group\" and \"between-group\" variance. Lower within-group variance (less noise) indicates that the observed differences are more likely due to true group effects rather than random fluctuations.\n",
        "\n",
        "* **f)** **False**, This scenario describes a dependent samples t-test, not a paired t-test. A paired t-test requires measuring the same variable on the same units before and after a treatment or under two different conditions. Here, you're comparing prices from two different sources (Amazon vs. local markets) for the same items.\n",
        "\n",
        "* **g)** **True**, Paired analyses focus on the differences between paired observations. By analyzing these differences, we can infer whether there's a significant difference between the two groups being compared.\n",
        "\n",
        "* **h)** **False**, β represents the probability of committing a Type II error (failing to reject a false null hypothesis). A larger β increases the risk of Type II errors, not prevents them. To decrease Type II errors, you would typically want a smaller β (achieved by increasing sample size)."
      ],
      "metadata": {
        "id": "gwM40WtY7Ui5"
      }
    },
    {
      "cell_type": "markdown",
      "source": [
        "# Q2"
      ],
      "metadata": {
        "id": "LiVk2Km0E6Xx"
      }
    },
    {
      "cell_type": "markdown",
      "source": [
        "A statistical inference class at a certain university has 500 students. The scores of 10 students were selected at random and are demonstrated in the following table.\n",
        "\n",
        "* **a.**\tCalculate the mean and standard deviation of the sample.\n",
        "* **b.**\tCalculate the margin of error.\n",
        "* **c.**\tConstruct a 90% confidence interval for the mean score of all the students in this class.\n",
        "* **d.**\tInterpret the calculated confidence interval\n",
        "\n",
        "![Screenshot (1349).png](data:image/png;base64,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)\n",
        "\n"
      ],
      "metadata": {
        "id": "2RWTfMBaE9lZ"
      }
    },
    {
      "cell_type": "markdown",
      "source": [
        "## Answer:"
      ],
      "metadata": {
        "id": "yFUr4e4GF3bK"
      }
    },
    {
      "cell_type": "markdown",
      "source": [
        "\n",
        "1. **Calculate the mean and standard deviation of the sample:**\n",
        "   \n",
        "   $Mean = \\frac{76 + 84 + 69 + 92 + 58 + 89 + 73 + 97 + 85 + 77} { 10} = \\frac{800}{10} = 80$\n",
        "\n",
        "   $\n",
        "\\sigma = \\sqrt{\\frac{{(76 - 80)^2 + (84 - 80)^2 + \\ldots + (77 - 80)^2}}{{10}}} = \\sqrt{\\frac{{16 + 16 + 121 + 144 + 484 + 81 + 49 + 289 + 25 + 9}}{{10}}} = \\sqrt{\\frac{{1234}}{{10}}} = \\sqrt{123.4} \\approx 11.11\n",
        "$\n",
        "\n",
        "2. **Calculate the margin of error:**\n",
        "   At first, we need to calculate the degree of freedom for the t-distribution:\n",
        "\n",
        "   $df = n - 1 = 10 - 1 = 9$\n",
        "\n",
        "   Then the margin of error (ME) for a 90% confidence interval can be calculated using the formula:\n",
        "   $ME = t * (s / sqrt(n))$\n",
        "\n",
        "   Where t is the t-score corresponding to the desired confidence level (90% with degree of 9 corresponds to a t-score of approximately 1.83), s is the sample standard deviation, and n is the sample size.\n",
        "   $ME = 1.83 * (11.11 / sqrt(10))\n",
        "      ≈ 1.83 * 3.51\n",
        "      ≈ 6.42$\n",
        "\n",
        "3. **Construct a 90% confidence interval for the mean score of all the students:**\n",
        "   The confidence interval can be constructed using the formula:\n",
        "\n",
        "   Confidence interval = (sample mean - margin of error, sample mean + margin of error)\n",
        "\n",
        "   $\\text{Confidence interval} = (80 - 6.42, 80 + 6.42)= (73.58, 86.42)$\n",
        "\n",
        "4. **Interpretation of the confidence interval:**\n",
        "   With 90% confidence, we estimate that the true mean score of all students in the class falls within the range of 73.58 to 86.42. This means that if we were to take multiple samples and construct confidence intervals in the same manner, approximately 90% of those intervals would contain the true population mean score."
      ],
      "metadata": {
        "id": "gv4hfPVJF6bR"
      }
    },
    {
      "cell_type": "markdown",
      "source": [
        "# Q3"
      ],
      "metadata": {
        "id": "R8jK_ELUTTOM"
      }
    },
    {
      "cell_type": "markdown",
      "source": [
        "New York is known as “the city that never sleeps”. A random sample of 25 New Yorkers were asked how much sleep they get per night. Statistical summaries of these data are shown below. The point estimate suggests New Yorkers sleep less than 8 hours a night on average. Is the result statistically significant?\n",
        "\n",
        "* **a.**\tWrite the hypotheses in symbols and words.\n",
        "* **b.**\tCheck conditions, then calculate the test statistic, 𝑇, and the associated degrees of freedom.\n",
        "* **c.**\tFind and interpret the p-value in this context.\n",
        "* **d.**\tWhat is the conclusion of the hypothesis test?\n",
        "* **e.**\tIf you were to construct a 90% confidence interval that corresponded to this hypothesis test, would you expect 8 hours to be in the interval?\n",
        "\n"
      ],
      "metadata": {
        "id": "oIA-IBvwTYht"
      }
    },
    {
      "cell_type": "markdown",
      "source": [
        "![Screenshot (1351).png](data:image/png;base64,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)"
      ],
      "metadata": {
        "id": "gH4HhjJ56VoU"
      }
    },
    {
      "cell_type": "markdown",
      "source": [
        "## Answer:"
      ],
      "metadata": {
        "id": "yucVCGqtU_Td"
      }
    },
    {
      "cell_type": "markdown",
      "source": [
        "\n",
        "**a.**\n",
        "\n",
        "**Null Hypothesis**: $H0: \\mu = 8$\n",
        "- This states that the average amount of sleep per night for New Yorkers is 8 hours.\n",
        "\n",
        "**Alternative Hypothesis** $H1: \\mu < 8$\n",
        "- This states that the average amount of sleep per night for New Yorkers is less than 8 hours.\n",
        "\n",
        "**b.**\n",
        "\n",
        "Conditions for a t-test:\n",
        "* **Random Sampling**: Assuming the sample is randomly selected.\n",
        "\n",
        "* **Independence**: less then 10 percent of population.\n",
        "\n",
        "The conditions seem reasonable for a t-test.\n",
        "\n",
        "To calculate the t-test statistic:\n",
        "$ T = \\frac{{\\bar{x} - \\mu}}{{s/\\sqrt{n}}} $\n",
        "\n",
        "Given:\n",
        "- $\\bar{x} = 7.73$\n",
        "- $\\mu = 8$\n",
        "- $s = 0.77$\n",
        "- $n = 25$\n",
        "\n",
        "$ T = \\frac{{7.73 - 8}}{{0.77/\\sqrt{25}}} = \\frac{{-0.27}}{{0.77/5}} = -1.75 $\n",
        "\n",
        "$\\text{Degrees of freedom } (df) = n - 1 = 25 - 1 = 24$\n",
        "\n",
        "**c.**\n",
        "\n",
        "   Using the t-distribution table or software, we find the p-value associated with a t-statistic of -1.75 with 24 degrees of freedom.\n",
        "   The p-value is approximately 0.0928.\n",
        "   This p-value represents the probability of observing a sample mean as extreme as 7.73, assuming the null hypothesis ($\\mu = 8$) is true.\n",
        "\n",
        "**d.**\n",
        "\n",
        "   becuase in the next part, we have %90 confidence interval, we use the significance level of 0.10.\n",
        "   With a significance level of 0.10, since the p-value (0.0928) is less than 0.10, we reject the null hypothesis.\n",
        "   Therefore, we have sufficient evidence to conclude that New Yorkers sleep less than 8 hours on average.\n",
        "\n",
        "**e.**\n",
        "\n",
        "   Since we rejected the null hypothesis that the mean is 8 hours, we would expect 8 hours not to be in the 90% confidence interval. The confidence interval would likely be entirely below 8 hours."
      ],
      "metadata": {
        "id": "EWtsFAqbVFty"
      }
    },
    {
      "cell_type": "markdown",
      "source": [
        "# Q4"
      ],
      "metadata": {
        "id": "UHaReCPWfbhF"
      }
    },
    {
      "cell_type": "markdown",
      "source": [
        "An experiment is performed to determine whether intensive tutoring (covering a great deal of material in a fixed amount of time) is statistically different from (is more/less effective) paced tutoring (covering less material in the same amount of time). Two randomly chosen groups are tutored separately and then administered proficiency tests. Use the significance level 𝛼 = 0.05.\n",
        "\n"
      ],
      "metadata": {
        "id": "R1A-NWn2fe-p"
      }
    },
    {
      "cell_type": "markdown",
      "source": [
        "![Screenshot (1353).png](data:image/png;base64,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)"
      ],
      "metadata": {
        "id": "-NrM7wZNU2G9"
      }
    },
    {
      "cell_type": "markdown",
      "source": [
        "## Answer:"
      ],
      "metadata": {
        "id": "PFV5UHbkg-Wy"
      }
    },
    {
      "cell_type": "markdown",
      "source": [
        "\n",
        "**Null hypothesis (H0):** There is no significant difference between the intensive tutoring and paced tutoring groups, i.e., the mean difference is equal to 0 ($H_0: \\bar{x}_1 - \\bar{x}_2 = 0$).\n",
        "\n",
        "**Alternative hypothesis (H1):** Intensive tutoring is more effective than paced tutoring, i.e., the mean difference is greater than 0 ($H_A: \\bar{x}_1 - \\bar{x}_2 \\neq 0$).\n",
        "\n",
        "First, let's calculate ${SE}_{(\\bar{x}_1 - \\bar{x}_2)}$ using the formula:\n",
        "\n",
        "${SE}_{(\\bar{x}_1 - \\bar{x}_2)} = \\sqrt{\\frac{{s_1}^2}{n_1} + \\frac{{s_2}^2}{n_2} }$\n",
        "\n",
        "where:\n",
        "- $n_1$ and $n_2$ are the sample sizes for intensive and paced tutoring groups, respectively.\n",
        "- $s_1$ and $s_2$ are the sample standard deviations for intensive and paced tutoring groups, respectively.\n",
        "\n",
        "Given the data:\n",
        "- $n_1 = 12$, $s_1 = 6.44$\n",
        "- $n_2 = 10$, $s_2 = 7.52$\n",
        "\n",
        "We can calculate:\n",
        "\n",
        "${SE}_{(\\bar{x}_1 - \\bar{x}_2)} = \\sqrt{\\frac{{6.44}^2}{12} + \\frac{{7.52}^2}{10} } = 3.01$\n",
        "\n",
        "Now we should compute $df$. $df$ could be computed using the following formula:\n",
        "\n",
        "$df = min(n_1 - 1, n_2 -1) = min(11, 9) = 9$\n",
        "\n",
        "Now we can calculate T-statistics:\n",
        "\n",
        "$T = \\frac{{\\bar{x}_1 - \\bar{x}_2}}{{\\sqrt{\\frac{{s_1^2}}{{n_1}} + \\frac{{s_2^2}}{{n_2}}}}}$\n",
        "\n",
        "\n",
        "$ T ≈ \\frac{{46.31 - 42.79}}{{3.01}} ≈ 1.1694 $\n",
        "\n",
        "Using the t-distribution table or software, we find the p-value associated with a t-statistic of 1.1694 with 9 degrees of freedom. The p-value is approximately 0.2722. Becuase **significance level < 0.2722**, we can not reject null hypothesis.\n",
        "\n",
        "\n"
      ],
      "metadata": {
        "id": "LjsFOijyhFVc"
      }
    },
    {
      "cell_type": "markdown",
      "source": [
        "# Q5"
      ],
      "metadata": {
        "id": "VuMbr-FoslXL"
      }
    },
    {
      "cell_type": "markdown",
      "source": [
        "In order to conduct medical research, a medical research group is seeking participants to complete short surveys about their medical history. One survey, for example, asks about a person's family history of cancer. As part of another survey, the respondent is asked what topics were discussed during their last hospital visit. According to our data, as people sign up, they complete approximately 4 surveys on average, and the standard deviation for the number of surveys is approximately 2.2. The research group wants to try a new interface that they think will encourage new enrollees to complete more surveys, where they will randomize each enrollee to either get the new interface or the current interface. How many new enrollees do they need for each interface to detect an effect size of 0.5 surveys per enrollee if the desired power level is 80%? Assume α=0.05."
      ],
      "metadata": {
        "id": "4EsXkLiOstAz"
      }
    },
    {
      "cell_type": "markdown",
      "source": [
        "## Answer:"
      ],
      "metadata": {
        "id": "40jnU1lrt-1U"
      }
    },
    {
      "cell_type": "markdown",
      "source": [
        "\n",
        "\n",
        "**What We have:**\n",
        "\n",
        "* Effect size ($δ$): 0.5 surveys per enrollee (difference the researchers want to detect)\n",
        "* Standard deviation ($s$): 2.2 surveys\n",
        "* Desired power: 80% (probability of correctly rejecting the null hypothesis if it's false)\n",
        "* Significance level ($\\alpha$): Typically 0.05 (probability of incorrectly rejecting the null hypothesis) - We don't need this explicitly for the calculation, but it's a good practice to acknowledge it.\n",
        "\n",
        "**Solution:**\n",
        "\n",
        "At first, we should find the Z-scores for the first and second case:\n",
        "* 0.95 : $Z_1 = 1.96$\n",
        "* 0.80: $Z_2 = 0.84$\n",
        "\n",
        "We have for SE the following formula:\n",
        "* $SE=\\frac{δ}{Z_1 + Z_2}$\n",
        "* $SE=\\frac{0.5}{1.96 + 0.84}=0.1785$\n",
        "\n",
        "Now we have the value for $SE$. Now we can compute sample size:\n",
        "* $SE = \\sqrt{\\frac{{s_1}^2 + {s_2}^2}{n}}$\n",
        "* $0.1785 = \\sqrt{\\frac{2.2^2 + 2.2^2}{n}}$\n",
        "* $n \\approx 304.40$\n",
        "\n",
        "So our sample size should be 305.![Screenshot ()"
      ],
      "metadata": {
        "id": "ck_PnzNY7C4P"
      }
    },
    {
      "cell_type": "markdown",
      "source": [
        "# Q6"
      ],
      "metadata": {
        "id": "7ow604rbuFtu"
      }
    },
    {
      "cell_type": "markdown",
      "source": [
        "To study the effect of cigarette smoking on platelet aggregation, researchers drew blood samples from 11 individuals before and after they smoked a cigarette and measured the percentage of blood platelet aggregation. Platelets are involved in the formation of blood clots, and it is known\n",
        "\n",
        "that smokers suffer from disorders involving blood clots more than non-smokers. Test the null hypothesis that the means before and after are the same. Use significance level 𝛼 = 0.05.\n",
        "\n"
      ],
      "metadata": {
        "id": "ns8L_Ak0uJPB"
      }
    },
    {
      "cell_type": "markdown",
      "source": [
        "![Screenshot (1355).png](data:image/png;base64,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)"
      ],
      "metadata": {
        "id": "gFt9Pngtg6il"
      }
    },
    {
      "cell_type": "markdown",
      "source": [
        "# Answer:"
      ],
      "metadata": {
        "id": "VGp9fe7pu1z_"
      }
    },
    {
      "cell_type": "markdown",
      "source": [
        "\n",
        "\n",
        "**Difference = Before - After**\n",
        "\n",
        "| Before | After | Difference |\n",
        "|---|---|---|\n",
        "| 25 | 27 | -2 |\n",
        "| 25 | 29 | -4 |\n",
        "| 27 | 37 | -10 |\n",
        "| 44 | 56 | -12 |\n",
        "| 30 | 46 | -16 |\n",
        "| 67 | 82 | -15 |\n",
        "| 53 | 57 | -4 |\n",
        "| 52 | 61 | -9 |\n",
        "| 53 | 80 | -27 |\n",
        "| 60 | 59 | 1 |\n",
        "| 28 | 43 | -15 |\n",
        "\n",
        "**Hypothesis Test:**\n",
        "* $H_0: \\mu_{diff} = 0$\n",
        "* $H_A: \\mu_{diff} \\neq 0$\n",
        "\n",
        "**What we have:**\n",
        "* ${\\bar{x}_{diff}}=\\frac{-2-4-10-12-16-15-4-9-27+1-15}{11}=-10.27$\n",
        "* $s_{diff} = \\sqrt{\\frac{\\sum (x - \\bar{x}_{diff})^2}{n - 1}} = \\sqrt{63.61} \\approx 7.97$\n",
        "* $n_{diff}=11$\n",
        "* $df = n - 1 = 11 -1 = 10$\n",
        "*$SE = \\frac{s}{\\sqrt{n}}= 2.40$\n",
        "\n",
        "**Calculate t-statistic:**\n",
        "\n",
        "* $T = \\frac{-10.27}{2.40} = -4.279$\n",
        "\n",
        "* $p-value = 0.000807 × 2 = 0.001614$\n",
        "* $α = 0.05, p-value = 0.001614$\n",
        "* $p-value < α$ , so we can reject null hypothesis."
      ],
      "metadata": {
        "id": "-rje-q55u4Xo"
      }
    },
    {
      "cell_type": "markdown",
      "source": [
        "# Q7"
      ],
      "metadata": {
        "id": "yDMOQrPIRymL"
      }
    },
    {
      "cell_type": "markdown",
      "source": [
        "The table below shows the heights of 24 men above 20 years of age from US, UK and India. We are interested in whether or not a significant difference exists between the mean heights of these three different countries. Use significance level 𝛼 = 0.05.\n",
        "*\tWrite the hypotheses for testing if the average height of three groups of men varies.\n",
        "*\tCalculate and conduct analysis using one-way ANOVA and complete the table.\n",
        "*\tWhat is the conclusion of the test?\n",
        "\n",
        "![Screenshot()1357).png](data:image/png;base64,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)"
      ],
      "metadata": {
        "id": "hQ8X2YrPR18-"
      }
    },
    {
      "cell_type": "markdown",
      "source": [
        "## Answer:"
      ],
      "metadata": {
        "id": "fjWP194hS0LQ"
      }
    },
    {
      "cell_type": "markdown",
      "source": [
        "**Hypotheses:**\n",
        "\n",
        "* Null Hypothesis ($H_0$): The mean heights of men from the US, UK, and India are equal.\n",
        "* Alternative Hypothesis ($H_1$): At least one mean height among the three countries is different.\n",
        "\n",
        "\n",
        "First, we need to find the sum of squares (Sum SQ) for both Group (Country) and Error (Residuals).\n",
        "\n",
        "- Total Sum of Squares ($SST$):\n",
        "$ SST = \\sum (X_{ij} - \\bar{X})^2 $\n",
        "where $ X_{ij} $ is each individual height, $ \\bar{X} $ is the overall mean height.\n",
        "\n",
        "- Sum of Squares Group ($SSG$):\n",
        "$SSG = \\sum n_i (\\bar{X}_i - \\bar{X})^2 $\n",
        "where $ n_i $ is the number of observations in each group, $\\bar{X}_i $ is the mean height of each group.\n",
        "\n",
        "- Sum of Squares Error (SSE):\n",
        "$ SSE = SST - SSG $\n",
        "\n",
        "- Degrees of Freedom ($df$):\n",
        "    * $ df_{T} = n - 1 $\n",
        "    * $df_{G} = k - 1 $\n",
        "    * $ df_{E} = df_{T} - df_{G} $\n",
        "\n",
        "where $k $ is the number of groups and $ n $ is the total number of observations.\n",
        "\n",
        "- Mean Squares (Mean Sq):\n",
        "    * $MSG = \\frac{SSG}{df_{G}}$\n",
        "    * $MSE = \\frac{SSE}{df_{E}}$\n",
        "\n",
        "- F-value:\n",
        "    * $F = \\frac{MSG}{MSE}$\n",
        "\n",
        "**Calculations:**\n",
        "\n",
        "Total number of observations (n) = 24\n",
        "\n",
        "Number of groups (k) = 3\n",
        "\n",
        "Overall mean height ( $\\bar{X}$):\n",
        "\n",
        "$\\bar{X} = \\frac{\\sum X_{ij}}{N}$\n",
        "\n",
        "$ \\bar{X} = \\frac{4254}{24} $\n",
        "\n",
        "$ \\bar{X} ≈ 177.25 $\n",
        "\n",
        "Now, we'll calculate total sum of squares.\n",
        "\n",
        "$SST = (180-177.25)^2 + (183-177.25)^2 + \\dots + (180-177.25)^2 $\n",
        "\n",
        "$SST ≈ 686.5 $\n",
        "\n",
        "\n",
        "$SSG = (8(177.375-177.25)^2) + (8(177.5-177.25)^2) + (8(176.875-177.25)^2) $\n",
        "\n",
        "$SSG ≈ 1.75 $\n",
        "\n",
        "$ SSE = SST - SSG $\n",
        "\n",
        "$ SSE ≈ 684.75 $\n",
        "\n",
        "$ df_{T} = 24 - 1 = 23 $\n",
        "\n",
        "$ df_{G} = 3 - 1 = 2 $\n",
        "\n",
        "$ DF_{E}  = 23 - 2 = 21 $\n",
        "\n",
        "\n",
        "\n",
        "$ MSG = \\frac{SSG}{df_{G}} ≈ \\frac{1.75}{2} ≈ 0.875 $\n",
        "\n",
        "$ MSE = \\frac{SSE}{df_{E}} ≈ \\frac{684.75}{21} ≈ 32.60 $\n",
        "\n",
        "\n",
        "\n",
        "$ F = \\frac{MSG}{MSE} ≈ \\frac{0.875}{32.60} ≈ 0.0268 $\n",
        "\n",
        "\n",
        "\n",
        "\n",
        "\\begin{array}{|c|c|c|c|c|c|c|}\n",
        "\\hline\n",
        "\\text{} & \\text{} & \\text{df} & \\text{Sum Sq} & \\text{Mean Sq} & \\text{F-value} & \\text{Pr(>F)} \\\\\n",
        "\\hline\n",
        "\\text{Group} & \\text{Class} & 2 & 1.75 & 0.875 & 0.0268 & 0.974 \\\\\n",
        "\\hline\n",
        "\\text{Error} & \\text{Residuals} & 21 & 684.75 & 32.60 & \\\\\n",
        "\\hline\n",
        "\\text{} & \\text{Total} & 23 & 686.5 & & \\\\\n",
        "\\hline\n",
        "\\end{array}\n",
        "\n",
        "\n",
        "**Conclusion of the test:**\n",
        "\n",
        "Since the calculated  probablity for F-value (0.974) is much greater than the critical value at α = 0.05, we could not reject the null hypothesis. Therefore, we conclude that there is not a significant difference in the mean heights of men from the US, UK, and India."
      ],
      "metadata": {
        "id": "A5MGcZ9EVhYN"
      }
    },
    {
      "cell_type": "markdown",
      "source": [
        "# Q8"
      ],
      "metadata": {
        "id": "ZRykzxq_mz12"
      }
    },
    {
      "cell_type": "markdown",
      "source": [
        "The dataset “Diet” contains information about 78 people who began to follow 3 different types of diets (referred to as diets A, B, and C). This exercise aims to see which diet is most effective at losing weight.\n",
        "*\tPlot the three group’s data using side-by-side boxplots.\n",
        "\n",
        "*\tUse ANOVA in R to determine whether there is a significant difference in the mean weight loss between groups.\n",
        "*\tDisplay and analyze the results.\n",
        "\n",
        "*\tCompare the weight loss between the two groups in R and:\n",
        "    *\tWrite the hypothesis.\n",
        "    *\tReport the level of significance of the test and the decision about the hypothesis.\n",
        "    *\tEstimate the size of the difference in the mean drop; use 𝛼=0.05.\n"
      ],
      "metadata": {
        "id": "Fv6WE6dym7sa"
      }
    },
    {
      "cell_type": "markdown",
      "source": [
        "# Answer:"
      ],
      "metadata": {
        "id": "pKTErWKUnHoR"
      }
    },
    {
      "cell_type": "code",
      "source": [
        "# libraries\n",
        "library(ggplot2)"
      ],
      "metadata": {
        "id": "g9gPf02Br-UV"
      },
      "execution_count": 2,
      "outputs": []
    },
    {
      "cell_type": "code",
      "source": [
        "# Read Diet Dataset\n",
        "data <- read.csv(\"/content/diet.csv\")\n",
        "data"
      ],
      "metadata": {
        "colab": {
          "base_uri": "https://localhost:8080/",
          "height": 1000
        },
        "id": "ak7TUwk3nKVZ",
        "outputId": "339c5a40-aeab-47dd-eedc-a8fb2bbf8b82"
      },
      "execution_count": 1,
      "outputs": [
        {
          "output_type": "display_data",
          "data": {
            "text/html": [
              "<table class=\"dataframe\">\n",
              "<caption>A data.frame: 76 × 7</caption>\n",
              "<thead>\n",
              "\t<tr><th scope=col>id</th><th scope=col>gender</th><th scope=col>age</th><th scope=col>height</th><th scope=col>diet.type</th><th scope=col>initial.weight</th><th scope=col>final.weight</th></tr>\n",
              "\t<tr><th scope=col>&lt;int&gt;</th><th scope=col>&lt;chr&gt;</th><th scope=col>&lt;int&gt;</th><th scope=col>&lt;int&gt;</th><th scope=col>&lt;chr&gt;</th><th scope=col>&lt;int&gt;</th><th scope=col>&lt;dbl&gt;</th></tr>\n",
              "</thead>\n",
              "<tbody>\n",
              "\t<tr><td> 1</td><td>Female</td><td>22</td><td>159</td><td>A</td><td>58</td><td>54.2</td></tr>\n",
              "\t<tr><td> 2</td><td>Female</td><td>46</td><td>192</td><td>A</td><td>60</td><td>54.0</td></tr>\n",
              "\t<tr><td> 3</td><td>Female</td><td>55</td><td>170</td><td>A</td><td>64</td><td>63.3</td></tr>\n",
              "\t<tr><td> 4</td><td>Female</td><td>33</td><td>171</td><td>A</td><td>64</td><td>61.1</td></tr>\n",
              "\t<tr><td> 5</td><td>Female</td><td>50</td><td>170</td><td>A</td><td>65</td><td>62.2</td></tr>\n",
              "\t<tr><td> 6</td><td>Female</td><td>50</td><td>201</td><td>A</td><td>66</td><td>64.0</td></tr>\n",
              "\t<tr><td> 7</td><td>Female</td><td>37</td><td>174</td><td>A</td><td>67</td><td>65.0</td></tr>\n",
              "\t<tr><td> 8</td><td>Female</td><td>28</td><td>176</td><td>A</td><td>69</td><td>60.5</td></tr>\n",
              "\t<tr><td> 9</td><td>Female</td><td>28</td><td>165</td><td>A</td><td>70</td><td>68.1</td></tr>\n",
              "\t<tr><td>10</td><td>Female</td><td>45</td><td>165</td><td>A</td><td>70</td><td>66.9</td></tr>\n",
              "\t<tr><td>11</td><td>Female</td><td>60</td><td>173</td><td>A</td><td>72</td><td>70.5</td></tr>\n",
              "\t<tr><td>12</td><td>Female</td><td>48</td><td>156</td><td>A</td><td>72</td><td>69.0</td></tr>\n",
              "\t<tr><td>13</td><td>Female</td><td>41</td><td>163</td><td>A</td><td>72</td><td>68.4</td></tr>\n",
              "\t<tr><td>14</td><td>Female</td><td>37</td><td>167</td><td>A</td><td>82</td><td>81.1</td></tr>\n",
              "\t<tr><td>27</td><td>Female</td><td>44</td><td>174</td><td>B</td><td>58</td><td>60.1</td></tr>\n",
              "\t<tr><td>28</td><td>Female</td><td>37</td><td>172</td><td>B</td><td>58</td><td>56.0</td></tr>\n",
              "\t<tr><td>29</td><td>Female</td><td>41</td><td>165</td><td>B</td><td>59</td><td>57.3</td></tr>\n",
              "\t<tr><td>30</td><td>Female</td><td>43</td><td>171</td><td>B</td><td>61</td><td>56.7</td></tr>\n",
              "\t<tr><td>31</td><td>Female</td><td>20</td><td>169</td><td>B</td><td>62</td><td>55.0</td></tr>\n",
              "\t<tr><td>32</td><td>Female</td><td>51</td><td>174</td><td>B</td><td>63</td><td>62.4</td></tr>\n",
              "\t<tr><td>33</td><td>Female</td><td>31</td><td>163</td><td>B</td><td>63</td><td>60.3</td></tr>\n",
              "\t<tr><td>34</td><td>Female</td><td>54</td><td>173</td><td>B</td><td>63</td><td>59.4</td></tr>\n",
              "\t<tr><td>35</td><td>Female</td><td>50</td><td>166</td><td>B</td><td>65</td><td>62.0</td></tr>\n",
              "\t<tr><td>36</td><td>Female</td><td>48</td><td>163</td><td>B</td><td>66</td><td>64.0</td></tr>\n",
              "\t<tr><td>37</td><td>Female</td><td>16</td><td>165</td><td>B</td><td>68</td><td>63.8</td></tr>\n",
              "\t<tr><td>38</td><td>Female</td><td>37</td><td>167</td><td>B</td><td>68</td><td>63.3</td></tr>\n",
              "\t<tr><td>39</td><td>Female</td><td>30</td><td>161</td><td>B</td><td>76</td><td>72.7</td></tr>\n",
              "\t<tr><td>40</td><td>Female</td><td>29</td><td>169</td><td>B</td><td>77</td><td>77.5</td></tr>\n",
              "\t<tr><td>52</td><td>Female</td><td>51</td><td>165</td><td>C</td><td>60</td><td>53.0</td></tr>\n",
              "\t<tr><td>53</td><td>Female</td><td>35</td><td>169</td><td>C</td><td>62</td><td>56.4</td></tr>\n",
              "\t<tr><td>⋮</td><td>⋮</td><td>⋮</td><td>⋮</td><td>⋮</td><td>⋮</td><td>⋮</td></tr>\n",
              "\t<tr><td>18</td><td>Male</td><td>50</td><td>160</td><td>A</td><td>78</td><td>73.9</td></tr>\n",
              "\t<tr><td>19</td><td>Male</td><td>43</td><td>162</td><td>A</td><td>80</td><td>71.0</td></tr>\n",
              "\t<tr><td>20</td><td>Male</td><td>25</td><td>165</td><td>A</td><td>80</td><td>77.6</td></tr>\n",
              "\t<tr><td>21</td><td>Male</td><td>52</td><td>177</td><td>A</td><td>83</td><td>79.1</td></tr>\n",
              "\t<tr><td>22</td><td>Male</td><td>42</td><td>166</td><td>A</td><td>85</td><td>81.5</td></tr>\n",
              "\t<tr><td>23</td><td>Male</td><td>39</td><td>166</td><td>A</td><td>87</td><td>81.9</td></tr>\n",
              "\t<tr><td>24</td><td>Male</td><td>40</td><td>190</td><td>A</td><td>88</td><td>84.5</td></tr>\n",
              "\t<tr><td>41</td><td>Male</td><td>51</td><td>191</td><td>B</td><td>71</td><td>66.8</td></tr>\n",
              "\t<tr><td>42</td><td>Male</td><td>38</td><td>199</td><td>B</td><td>75</td><td>72.6</td></tr>\n",
              "\t<tr><td>43</td><td>Male</td><td>54</td><td>196</td><td>B</td><td>75</td><td>69.2</td></tr>\n",
              "\t<tr><td>44</td><td>Male</td><td>33</td><td>190</td><td>B</td><td>76</td><td>72.5</td></tr>\n",
              "\t<tr><td>45</td><td>Male</td><td>45</td><td>160</td><td>B</td><td>78</td><td>72.7</td></tr>\n",
              "\t<tr><td>46</td><td>Male</td><td>37</td><td>194</td><td>B</td><td>78</td><td>76.3</td></tr>\n",
              "\t<tr><td>47</td><td>Male</td><td>44</td><td>163</td><td>B</td><td>79</td><td>73.6</td></tr>\n",
              "\t<tr><td>48</td><td>Male</td><td>40</td><td>171</td><td>B</td><td>79</td><td>72.9</td></tr>\n",
              "\t<tr><td>49</td><td>Male</td><td>37</td><td>198</td><td>B</td><td>79</td><td>71.1</td></tr>\n",
              "\t<tr><td>50</td><td>Male</td><td>39</td><td>180</td><td>B</td><td>80</td><td>81.4</td></tr>\n",
              "\t<tr><td>51</td><td>Male</td><td>31</td><td>182</td><td>B</td><td>80</td><td>75.7</td></tr>\n",
              "\t<tr><td>67</td><td>Male</td><td>36</td><td>155</td><td>C</td><td>71</td><td>68.5</td></tr>\n",
              "\t<tr><td>68</td><td>Male</td><td>47</td><td>179</td><td>C</td><td>73</td><td>72.1</td></tr>\n",
              "\t<tr><td>69</td><td>Male</td><td>29</td><td>166</td><td>C</td><td>76</td><td>72.5</td></tr>\n",
              "\t<tr><td>70</td><td>Male</td><td>37</td><td>173</td><td>C</td><td>78</td><td>77.5</td></tr>\n",
              "\t<tr><td>71</td><td>Male</td><td>31</td><td>177</td><td>C</td><td>78</td><td>75.2</td></tr>\n",
              "\t<tr><td>72</td><td>Male</td><td>26</td><td>179</td><td>C</td><td>78</td><td>69.4</td></tr>\n",
              "\t<tr><td>73</td><td>Male</td><td>40</td><td>179</td><td>C</td><td>79</td><td>74.5</td></tr>\n",
              "\t<tr><td>74</td><td>Male</td><td>35</td><td>183</td><td>C</td><td>83</td><td>80.2</td></tr>\n",
              "\t<tr><td>75</td><td>Male</td><td>49</td><td>177</td><td>C</td><td>84</td><td>79.9</td></tr>\n",
              "\t<tr><td>76</td><td>Male</td><td>28</td><td>164</td><td>C</td><td>85</td><td>79.7</td></tr>\n",
              "\t<tr><td>77</td><td>Male</td><td>40</td><td>167</td><td>C</td><td>87</td><td>77.8</td></tr>\n",
              "\t<tr><td>78</td><td>Male</td><td>51</td><td>175</td><td>C</td><td>88</td><td>81.9</td></tr>\n",
              "</tbody>\n",
              "</table>\n"
            ],
            "text/markdown": "\nA data.frame: 76 × 7\n\n| id &lt;int&gt; | gender &lt;chr&gt; | age &lt;int&gt; | height &lt;int&gt; | diet.type &lt;chr&gt; | initial.weight &lt;int&gt; | final.weight &lt;dbl&gt; |\n|---|---|---|---|---|---|---|\n|  1 | Female | 22 | 159 | A | 58 | 54.2 |\n|  2 | Female | 46 | 192 | A | 60 | 54.0 |\n|  3 | Female | 55 | 170 | A | 64 | 63.3 |\n|  4 | Female | 33 | 171 | A | 64 | 61.1 |\n|  5 | Female | 50 | 170 | A | 65 | 62.2 |\n|  6 | Female | 50 | 201 | A | 66 | 64.0 |\n|  7 | Female | 37 | 174 | A | 67 | 65.0 |\n|  8 | Female | 28 | 176 | A | 69 | 60.5 |\n|  9 | Female | 28 | 165 | A | 70 | 68.1 |\n| 10 | Female | 45 | 165 | A | 70 | 66.9 |\n| 11 | Female | 60 | 173 | A | 72 | 70.5 |\n| 12 | Female | 48 | 156 | A | 72 | 69.0 |\n| 13 | Female | 41 | 163 | A | 72 | 68.4 |\n| 14 | Female | 37 | 167 | A | 82 | 81.1 |\n| 27 | Female | 44 | 174 | B | 58 | 60.1 |\n| 28 | Female | 37 | 172 | B | 58 | 56.0 |\n| 29 | Female | 41 | 165 | B | 59 | 57.3 |\n| 30 | Female | 43 | 171 | B | 61 | 56.7 |\n| 31 | Female | 20 | 169 | B | 62 | 55.0 |\n| 32 | Female | 51 | 174 | B | 63 | 62.4 |\n| 33 | Female | 31 | 163 | B | 63 | 60.3 |\n| 34 | Female | 54 | 173 | B | 63 | 59.4 |\n| 35 | Female | 50 | 166 | B | 65 | 62.0 |\n| 36 | Female | 48 | 163 | B | 66 | 64.0 |\n| 37 | Female | 16 | 165 | B | 68 | 63.8 |\n| 38 | Female | 37 | 167 | B | 68 | 63.3 |\n| 39 | Female | 30 | 161 | B | 76 | 72.7 |\n| 40 | Female | 29 | 169 | B | 77 | 77.5 |\n| 52 | Female | 51 | 165 | C | 60 | 53.0 |\n| 53 | Female | 35 | 169 | C | 62 | 56.4 |\n| ⋮ | ⋮ | ⋮ | ⋮ | ⋮ | ⋮ | ⋮ |\n| 18 | Male | 50 | 160 | A | 78 | 73.9 |\n| 19 | Male | 43 | 162 | A | 80 | 71.0 |\n| 20 | Male | 25 | 165 | A | 80 | 77.6 |\n| 21 | Male | 52 | 177 | A | 83 | 79.1 |\n| 22 | Male | 42 | 166 | A | 85 | 81.5 |\n| 23 | Male | 39 | 166 | A | 87 | 81.9 |\n| 24 | Male | 40 | 190 | A | 88 | 84.5 |\n| 41 | Male | 51 | 191 | B | 71 | 66.8 |\n| 42 | Male | 38 | 199 | B | 75 | 72.6 |\n| 43 | Male | 54 | 196 | B | 75 | 69.2 |\n| 44 | Male | 33 | 190 | B | 76 | 72.5 |\n| 45 | Male | 45 | 160 | B | 78 | 72.7 |\n| 46 | Male | 37 | 194 | B | 78 | 76.3 |\n| 47 | Male | 44 | 163 | B | 79 | 73.6 |\n| 48 | Male | 40 | 171 | B | 79 | 72.9 |\n| 49 | Male | 37 | 198 | B | 79 | 71.1 |\n| 50 | Male | 39 | 180 | B | 80 | 81.4 |\n| 51 | Male | 31 | 182 | B | 80 | 75.7 |\n| 67 | Male | 36 | 155 | C | 71 | 68.5 |\n| 68 | Male | 47 | 179 | C | 73 | 72.1 |\n| 69 | Male | 29 | 166 | C | 76 | 72.5 |\n| 70 | Male | 37 | 173 | C | 78 | 77.5 |\n| 71 | Male | 31 | 177 | C | 78 | 75.2 |\n| 72 | Male | 26 | 179 | C | 78 | 69.4 |\n| 73 | Male | 40 | 179 | C | 79 | 74.5 |\n| 74 | Male | 35 | 183 | C | 83 | 80.2 |\n| 75 | Male | 49 | 177 | C | 84 | 79.9 |\n| 76 | Male | 28 | 164 | C | 85 | 79.7 |\n| 77 | Male | 40 | 167 | C | 87 | 77.8 |\n| 78 | Male | 51 | 175 | C | 88 | 81.9 |\n\n",
            "text/latex": "A data.frame: 76 × 7\n\\begin{tabular}{lllllll}\n id & gender & age & height & diet.type & initial.weight & final.weight\\\\\n <int> & <chr> & <int> & <int> & <chr> & <int> & <dbl>\\\\\n\\hline\n\t  1 & Female & 22 & 159 & A & 58 & 54.2\\\\\n\t  2 & Female & 46 & 192 & A & 60 & 54.0\\\\\n\t  3 & Female & 55 & 170 & A & 64 & 63.3\\\\\n\t  4 & Female & 33 & 171 & A & 64 & 61.1\\\\\n\t  5 & Female & 50 & 170 & A & 65 & 62.2\\\\\n\t  6 & Female & 50 & 201 & A & 66 & 64.0\\\\\n\t  7 & Female & 37 & 174 & A & 67 & 65.0\\\\\n\t  8 & Female & 28 & 176 & A & 69 & 60.5\\\\\n\t  9 & Female & 28 & 165 & A & 70 & 68.1\\\\\n\t 10 & Female & 45 & 165 & A & 70 & 66.9\\\\\n\t 11 & Female & 60 & 173 & A & 72 & 70.5\\\\\n\t 12 & Female & 48 & 156 & A & 72 & 69.0\\\\\n\t 13 & Female & 41 & 163 & A & 72 & 68.4\\\\\n\t 14 & Female & 37 & 167 & A & 82 & 81.1\\\\\n\t 27 & Female & 44 & 174 & B & 58 & 60.1\\\\\n\t 28 & Female & 37 & 172 & B & 58 & 56.0\\\\\n\t 29 & Female & 41 & 165 & B & 59 & 57.3\\\\\n\t 30 & Female & 43 & 171 & B & 61 & 56.7\\\\\n\t 31 & Female & 20 & 169 & B & 62 & 55.0\\\\\n\t 32 & Female & 51 & 174 & B & 63 & 62.4\\\\\n\t 33 & Female & 31 & 163 & B & 63 & 60.3\\\\\n\t 34 & Female & 54 & 173 & B & 63 & 59.4\\\\\n\t 35 & Female & 50 & 166 & B & 65 & 62.0\\\\\n\t 36 & Female & 48 & 163 & B & 66 & 64.0\\\\\n\t 37 & Female & 16 & 165 & B & 68 & 63.8\\\\\n\t 38 & Female & 37 & 167 & B & 68 & 63.3\\\\\n\t 39 & Female & 30 & 161 & B & 76 & 72.7\\\\\n\t 40 & Female & 29 & 169 & B & 77 & 77.5\\\\\n\t 52 & Female & 51 & 165 & C & 60 & 53.0\\\\\n\t 53 & Female & 35 & 169 & C & 62 & 56.4\\\\\n\t ⋮ & ⋮ & ⋮ & ⋮ & ⋮ & ⋮ & ⋮\\\\\n\t 18 & Male & 50 & 160 & A & 78 & 73.9\\\\\n\t 19 & Male & 43 & 162 & A & 80 & 71.0\\\\\n\t 20 & Male & 25 & 165 & A & 80 & 77.6\\\\\n\t 21 & Male & 52 & 177 & A & 83 & 79.1\\\\\n\t 22 & Male & 42 & 166 & A & 85 & 81.5\\\\\n\t 23 & Male & 39 & 166 & A & 87 & 81.9\\\\\n\t 24 & Male & 40 & 190 & A & 88 & 84.5\\\\\n\t 41 & Male & 51 & 191 & B & 71 & 66.8\\\\\n\t 42 & Male & 38 & 199 & B & 75 & 72.6\\\\\n\t 43 & Male & 54 & 196 & B & 75 & 69.2\\\\\n\t 44 & Male & 33 & 190 & B & 76 & 72.5\\\\\n\t 45 & Male & 45 & 160 & B & 78 & 72.7\\\\\n\t 46 & Male & 37 & 194 & B & 78 & 76.3\\\\\n\t 47 & Male & 44 & 163 & B & 79 & 73.6\\\\\n\t 48 & Male & 40 & 171 & B & 79 & 72.9\\\\\n\t 49 & Male & 37 & 198 & B & 79 & 71.1\\\\\n\t 50 & Male & 39 & 180 & B & 80 & 81.4\\\\\n\t 51 & Male & 31 & 182 & B & 80 & 75.7\\\\\n\t 67 & Male & 36 & 155 & C & 71 & 68.5\\\\\n\t 68 & Male & 47 & 179 & C & 73 & 72.1\\\\\n\t 69 & Male & 29 & 166 & C & 76 & 72.5\\\\\n\t 70 & Male & 37 & 173 & C & 78 & 77.5\\\\\n\t 71 & Male & 31 & 177 & C & 78 & 75.2\\\\\n\t 72 & Male & 26 & 179 & C & 78 & 69.4\\\\\n\t 73 & Male & 40 & 179 & C & 79 & 74.5\\\\\n\t 74 & Male & 35 & 183 & C & 83 & 80.2\\\\\n\t 75 & Male & 49 & 177 & C & 84 & 79.9\\\\\n\t 76 & Male & 28 & 164 & C & 85 & 79.7\\\\\n\t 77 & Male & 40 & 167 & C & 87 & 77.8\\\\\n\t 78 & Male & 51 & 175 & C & 88 & 81.9\\\\\n\\end{tabular}\n",
            "text/plain": [
              "   id gender age height diet.type initial.weight final.weight\n",
              "1   1 Female 22  159    A         58             54.2        \n",
              "2   2 Female 46  192    A         60             54.0        \n",
              "3   3 Female 55  170    A         64             63.3        \n",
              "4   4 Female 33  171    A         64             61.1        \n",
              "5   5 Female 50  170    A         65             62.2        \n",
              "6   6 Female 50  201    A         66             64.0        \n",
              "7   7 Female 37  174    A         67             65.0        \n",
              "8   8 Female 28  176    A         69             60.5        \n",
              "9   9 Female 28  165    A         70             68.1        \n",
              "10 10 Female 45  165    A         70             66.9        \n",
              "11 11 Female 60  173    A         72             70.5        \n",
              "12 12 Female 48  156    A         72             69.0        \n",
              "13 13 Female 41  163    A         72             68.4        \n",
              "14 14 Female 37  167    A         82             81.1        \n",
              "15 27 Female 44  174    B         58             60.1        \n",
              "16 28 Female 37  172    B         58             56.0        \n",
              "17 29 Female 41  165    B         59             57.3        \n",
              "18 30 Female 43  171    B         61             56.7        \n",
              "19 31 Female 20  169    B         62             55.0        \n",
              "20 32 Female 51  174    B         63             62.4        \n",
              "21 33 Female 31  163    B         63             60.3        \n",
              "22 34 Female 54  173    B         63             59.4        \n",
              "23 35 Female 50  166    B         65             62.0        \n",
              "24 36 Female 48  163    B         66             64.0        \n",
              "25 37 Female 16  165    B         68             63.8        \n",
              "26 38 Female 37  167    B         68             63.3        \n",
              "27 39 Female 30  161    B         76             72.7        \n",
              "28 40 Female 29  169    B         77             77.5        \n",
              "29 52 Female 51  165    C         60             53.0        \n",
              "30 53 Female 35  169    C         62             56.4        \n",
              "⋮  ⋮  ⋮      ⋮   ⋮      ⋮         ⋮              ⋮           \n",
              "47 18 Male   50  160    A         78             73.9        \n",
              "48 19 Male   43  162    A         80             71.0        \n",
              "49 20 Male   25  165    A         80             77.6        \n",
              "50 21 Male   52  177    A         83             79.1        \n",
              "51 22 Male   42  166    A         85             81.5        \n",
              "52 23 Male   39  166    A         87             81.9        \n",
              "53 24 Male   40  190    A         88             84.5        \n",
              "54 41 Male   51  191    B         71             66.8        \n",
              "55 42 Male   38  199    B         75             72.6        \n",
              "56 43 Male   54  196    B         75             69.2        \n",
              "57 44 Male   33  190    B         76             72.5        \n",
              "58 45 Male   45  160    B         78             72.7        \n",
              "59 46 Male   37  194    B         78             76.3        \n",
              "60 47 Male   44  163    B         79             73.6        \n",
              "61 48 Male   40  171    B         79             72.9        \n",
              "62 49 Male   37  198    B         79             71.1        \n",
              "63 50 Male   39  180    B         80             81.4        \n",
              "64 51 Male   31  182    B         80             75.7        \n",
              "65 67 Male   36  155    C         71             68.5        \n",
              "66 68 Male   47  179    C         73             72.1        \n",
              "67 69 Male   29  166    C         76             72.5        \n",
              "68 70 Male   37  173    C         78             77.5        \n",
              "69 71 Male   31  177    C         78             75.2        \n",
              "70 72 Male   26  179    C         78             69.4        \n",
              "71 73 Male   40  179    C         79             74.5        \n",
              "72 74 Male   35  183    C         83             80.2        \n",
              "73 75 Male   49  177    C         84             79.9        \n",
              "74 76 Male   28  164    C         85             79.7        \n",
              "75 77 Male   40  167    C         87             77.8        \n",
              "76 78 Male   51  175    C         88             81.9        "
            ]
          },
          "metadata": {}
        }
      ]
    },
    {
      "cell_type": "code",
      "source": [
        "# Plot three groups of data\n",
        "ggplot(data, aes(x = diet.type, y = initial.weight - final.weight)) +\n",
        "  geom_boxplot() +\n",
        "  labs(title = \"Weight Loss by Diet Type\",\n",
        "       x = \"Diet Type\",\n",
        "       y = \"Weight Loss\")"
      ],
      "metadata": {
        "colab": {
          "base_uri": "https://localhost:8080/",
          "height": 437
        },
        "id": "BDK1t2arm2Wr",
        "outputId": "10409539-c047-4a9a-d061-f8c92277643a"
      },
      "execution_count": 4,
      "outputs": [
        {
          "output_type": "display_data",
          "data": {
            "text/plain": [
              "plot without title"
            ],
            "image/png": "[encoded data removed]"
          },
          "metadata": {
            "image/png": {
              "width": 420,
              "height": 420
            }
          }
        }
      ]
    },
    {
      "cell_type": "markdown",
      "source": [
        "Here we conducted the ANOVA Test and the final value is $Pr(>F) = 0.0066$. If we consider $α=0.05$, because the prob is less than $α$, we can reject the null hypothesis. It indicates that there is a significant difference in the mean weight loss between groups."
      ],
      "metadata": {
        "id": "UsxUuhQctpYg"
      }
    },
    {
      "cell_type": "code",
      "source": [
        "# ANOVA Test\n",
        "anova_result <- aov(final.weight - initial.weight ~ diet.type, data = data)\n",
        "summary(anova_result)"
      ],
      "metadata": {
        "colab": {
          "base_uri": "https://localhost:8080/",
          "height": 108
        },
        "id": "VC3ccBpNDd1E",
        "outputId": "360910ea-4bf1-4482-ce86-a4fa38b48e7e"
      },
      "execution_count": 5,
      "outputs": [
        {
          "output_type": "display_data",
          "data": {
            "text/plain": [
              "            Df Sum Sq Mean Sq F value Pr(>F)   \n",
              "diet.type    2   60.5  30.264   5.383 0.0066 **\n",
              "Residuals   73  410.4   5.622                  \n",
              "---\n",
              "Signif. codes:  0 ‘***’ 0.001 ‘**’ 0.01 ‘*’ 0.05 ‘.’ 0.1 ‘ ’ 1"
            ]
          },
          "metadata": {}
        }
      ]
    },
    {
      "cell_type": "code",
      "source": [
        "# compare weight loss between two groups\n",
        "group_C <- data$final.weight[data$diet.type == \"C\"] - data$initial.weight[data$diet.type == \"C\"]\n",
        "group_B <- data$final.weight[data$diet.type == \"B\"] - data$initial.weight[data$diet.type == \"B\"]\n",
        "group_A <- data$final.weight[data$diet.type == \"A\"] - data$initial.weight[data$diet.type == \"A\"]"
      ],
      "metadata": {
        "id": "b4ru5b1Wv2p3"
      },
      "execution_count": 10,
      "outputs": []
    },
    {
      "cell_type": "markdown",
      "source": [
        "**Hypothesis:**\n",
        "* Null Hypothesis ($H_0$): There is no difference in mean weight loss between group C and group B.\n",
        "* Alternative Hypothesis ($H_A$): There is a difference in mean weight loss between group C and group B."
      ],
      "metadata": {
        "id": "rmkY43dUv-zR"
      }
    },
    {
      "cell_type": "code",
      "source": [
        "# Perform t-test\n",
        "t_test_result <- t.test(group_C, group_B, alternative = \"two.sided\")"
      ],
      "metadata": {
        "id": "6aE5AhqJv8Yx"
      },
      "execution_count": 22,
      "outputs": []
    },
    {
      "cell_type": "code",
      "source": [
        "# Report the level of significance and decision about the hypothesis\n",
        "if (t_test_result$p.value < 0.05) {\n",
        "  cat(\"The p-value is\", t_test_result$p.value, \"which is less than 0.05.\\n\")\n",
        "  cat(\"Reject the null hypothesis. There is a significant difference in mean weight loss between group C and group B.\\n\")\n",
        "} else {\n",
        "  cat(\"The p-value is\", t_test_result$p.value, \"which is greater than or equal to 0.05.\\n\")\n",
        "  cat(\"Fail to reject the null hypothesis. There is no significant difference in mean weight loss between group C and group B.\\n\")\n",
        "}"
      ],
      "metadata": {
        "colab": {
          "base_uri": "https://localhost:8080/"
        },
        "id": "aR3zdHINwRm0",
        "outputId": "66a93813-7282-49d0-9db4-f0744b20973d"
      },
      "execution_count": 23,
      "outputs": [
        {
          "output_type": "stream",
          "name": "stdout",
          "text": [
            "The p-value is 0.007551615 which is less than 0.05.\n",
            "Reject the null hypothesis. There is a significant difference in mean weight loss between group C and group B.\n"
          ]
        }
      ]
    },
    {
      "cell_type": "code",
      "source": [
        "# Estimate the size of the difference in the mean drop\n",
        "mean_diff <- mean(group_B) - mean(group_C)\n",
        "ci <- t_test_result$conf.int\n",
        "\n",
        "cat(\"The mean difference in weight loss between group C and group B is\",\n",
        "    mean_diff, \"units with a 95% confidence interval of\", ci[1], \"to\", ci[2], \"units.\")"
      ],
      "metadata": {
        "colab": {
          "base_uri": "https://localhost:8080/"
        },
        "id": "KTI4LFtU1B_0",
        "outputId": "d64f5a96-ffdc-456e-8c8c-70cd8c18767d"
      },
      "execution_count": 25,
      "outputs": [
        {
          "output_type": "stream",
          "name": "stdout",
          "text": [
            "The mean difference in weight loss between group C and group B is 1.880148 units with a 95% confidence interval of -3.236128 to -0.524168 units."
          ]
        }
      ]
    },
    {
      "cell_type": "markdown",
      "source": [
        "**Hypothesis:**\n",
        "* Null Hypothesis ($H_0$): There is no difference in mean weight loss between group A and group B.\n",
        "* Alternative Hypothesis ($H_A$): There is a difference in mean weight loss between group A and group B."
      ],
      "metadata": {
        "id": "ARqf2yh0xu1t"
      }
    },
    {
      "cell_type": "code",
      "source": [
        "# Perform t-test\n",
        "t_test_result <- t.test(group_A, group_B, alternative = \"two.sided\")"
      ],
      "metadata": {
        "id": "HzzgBlNLxy5a"
      },
      "execution_count": 26,
      "outputs": []
    },
    {
      "cell_type": "code",
      "source": [
        "# Report the level of significance and decision about the hypothesis\n",
        "if (t_test_result$p.value < 0.05) {\n",
        "  cat(\"The p-value is\", t_test_result$p.value, \"which is less than 0.05.\\n\")\n",
        "  cat(\"Reject the null hypothesis. There is a significant difference in mean weight loss between group A and group B.\\n\")\n",
        "} else {\n",
        "  cat(\"The p-value is\", t_test_result$p.value, \"which is greater than or equal to 0.05.\\n\")\n",
        "  cat(\"Fail to reject the null hypothesis. There is no significant difference in mean weight loss between group A and group B.\\n\")\n",
        "}"
      ],
      "metadata": {
        "colab": {
          "base_uri": "https://localhost:8080/"
        },
        "id": "gvlO7Pgkx2XM",
        "outputId": "97ffc90a-da01-4337-f6ac-5f64800355f6"
      },
      "execution_count": 27,
      "outputs": [
        {
          "output_type": "stream",
          "name": "stdout",
          "text": [
            "The p-value is 0.9622417 which is greater than or equal to 0.05.\n",
            "Fail to reject the null hypothesis. There is no significant difference in mean weight loss between group A and group B.\n"
          ]
        }
      ]
    },
    {
      "cell_type": "code",
      "source": [
        "# Estimate the size of the difference in the mean drop\n",
        "mean_diff <- mean(group_A) - mean(group_B)\n",
        "ci <- t_test_result$conf.int\n",
        "\n",
        "cat(\"The mean difference in weight loss between group A and group B is\",\n",
        "    mean_diff, \"units with a 95% confidence interval of\", ci[1], \"to\", ci[2], \"units.\")"
      ],
      "metadata": {
        "colab": {
          "base_uri": "https://localhost:8080/"
        },
        "id": "KRG5IqT3xVXo",
        "outputId": "7950d190-2148-4204-9317-6b3965e8602a"
      },
      "execution_count": 28,
      "outputs": [
        {
          "output_type": "stream",
          "name": "stdout",
          "text": [
            "The mean difference in weight loss between group A and group B is -0.032 units with a 95% confidence interval of -1.384692 to 1.320692 units."
          ]
        }
      ]
    },
    {
      "cell_type": "markdown",
      "source": [
        "**Hypothesis:**\n",
        "* Null Hypothesis ($H_0$): There is no difference in mean weight loss between group A and group C.\n",
        "* Alternative Hypothesis ($H_A$): There is a difference in mean weight loss between group A and group C."
      ],
      "metadata": {
        "id": "zp9mRPyhyMIS"
      }
    },
    {
      "cell_type": "code",
      "source": [
        "# Perform t-test\n",
        "t_test_result <- t.test(group_A, group_C, alternative = \"two.sided\")"
      ],
      "metadata": {
        "id": "SWQ2mmhpyZVn"
      },
      "execution_count": 34,
      "outputs": []
    },
    {
      "cell_type": "code",
      "source": [
        "# Report the level of significance and decision about the hypothesis\n",
        "if (t_test_result$p.value < 0.05) {\n",
        "  cat(\"The p-value is\", t_test_result$p.value, \"which is less than 0.05.\\n\")\n",
        "  cat(\"Reject the null hypothesis. There is a significant difference in mean weight loss between group A and group C.\\n\")\n",
        "} else {\n",
        "  cat(\"The p-value is\", t_test_result$p.value, \"which is greater than or equal to 0.05.\\n\")\n",
        "  cat(\"Fail to reject the null hypothesis. There is no significant difference in mean weight loss between group A and group C.\\n\")\n",
        "}"
      ],
      "metadata": {
        "colab": {
          "base_uri": "https://localhost:8080/"
        },
        "id": "bBlv8Mf4ycs5",
        "outputId": "e58557b4-f95d-417d-9b86-ec0ae63d08aa"
      },
      "execution_count": 35,
      "outputs": [
        {
          "output_type": "stream",
          "name": "stdout",
          "text": [
            "The p-value is 0.006449972 which is less than 0.05.\n",
            "Reject the null hypothesis. There is a significant difference in mean weight loss between group A and group C.\n"
          ]
        }
      ]
    },
    {
      "cell_type": "code",
      "source": [
        "# Estimate the size of the difference in the mean drop\n",
        "mean_diff <- mean(group_C) - mean(group_A)\n",
        "ci <- t_test_result$conf.int\n",
        "\n",
        "cat(\"The mean difference in weight loss between group A and group C is\",\n",
        "    mean_diff, \"units with a 95% confidence interval of\", ci[1], \"to\", ci[2], \"units.\")"
      ],
      "metadata": {
        "colab": {
          "base_uri": "https://localhost:8080/"
        },
        "id": "3EG5jved1df-",
        "outputId": "13be5f90-7a0d-4293-d266-ffcc7bd2cf69"
      },
      "execution_count": 37,
      "outputs": [
        {
          "output_type": "stream",
          "name": "stdout",
          "text": [
            "The mean difference in weight loss between group A and group C is -1.848148 units with a 95% confidence interval of 0.5431606 to 3.153136 units."
          ]
        }
      ]
    }
  ]
}