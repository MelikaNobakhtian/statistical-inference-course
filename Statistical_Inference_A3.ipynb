{
  "nbformat": 4,
  "nbformat_minor": 0,
  "metadata": {
    "colab": {
      "provenance": []
    },
    "kernelspec": {
      "name": "ir",
      "display_name": "R"
    },
    "language_info": {
      "name": "R"
    }
  },
  "cells": [
    {
      "cell_type": "markdown",
      "source": [
        "# Q1"
      ],
      "metadata": {
        "id": "HWtVPmlbC0Zb"
      }
    },
    {
      "cell_type": "markdown",
      "source": [
        "The average house price in New York based on the random sample of 81 houses is 800,000. Assume that population standard deviation 𝜎 equals 90,000.\n",
        "\n",
        "-    Compute a 98% confidence interval for the population mean 𝜇.\n",
        "-   Compute a 95% confidence interval for the population mean 𝜇.\n",
        "-   Compute a 90% confidence interval for the population mean 𝜇.\n",
        "-   Compute a 50% confidence interval for the population mean 𝜇.\n",
        "-   Write a one-sentence interpretation of the confidence interval.\n",
        "-   Express the intuition behind different confidence intervals and obtained results.\n",
        "-   How many such houses should be sampled in order to obtain a 99% confidence interval with a margin of error less than or equal to 5,000?\n",
        "-   How would the required sample size change if we want to decrease the margin of the error to 2,500?"
      ],
      "metadata": {
        "id": "3HicvO-6-Fm6"
      }
    },
    {
      "cell_type": "markdown",
      "source": [
        "## Answer:"
      ],
      "metadata": {
        "id": "N9AWnUPk-g3d"
      }
    },
    {
      "cell_type": "markdown",
      "source": [
        "$ \\text{Confidence Interval} = \\bar{x} \\pm z \\left(\\frac{s}{\\sqrt{n}}\\right) $\n",
        "\n",
        "where:\n",
        "- $\\bar{x}$ is the sample mean (which is $800,000 in this case).\n",
        "\n",
        "- $z$ is the critical value corresponding to the desired confidence level. You can find this value from a standard normal distribution table or calculator.\n",
        "\n",
        "- $s$ is the population standard deviation (90,000).\n",
        "\n",
        "- $n$ is the sample size (81).\n",
        "\n",
        "**a) 98% Confidence Interval:**\n",
        "For a 98% confidence interval, the critical value is approximately 2.33 (from the standard normal distribution table). Using the formula, we get:\n",
        "\n",
        "$ \\text{Confidence Interval} = 800,000 \\pm 2.33 \\left(\\frac{90,000}{\\sqrt{81}}\\right) $\n",
        "\n",
        "Solving this, we get the 98% confidence interval for the population mean 𝜇: **776,700** to **823,300**.\n",
        "\n",
        "**b) 95% Confidence Interval:**\n",
        "For a 95% confidence interval, the critical value is approximately 1.96. Using the formula, we get:\n",
        "\n",
        "$ \\text{Confidence Interval} = 800,000 \\pm 1.96 \\left(\\frac{90,000}{\\sqrt{81}}\\right) $\n",
        "\n",
        "Solving this, we get the 95% confidence interval for the population mean 𝜇: **780,400** to **819,600**.\n",
        "\n",
        "**c) 90% Confidence Interval:**\n",
        "For a 90% confidence interval, the critical value is approximately 1.65. Using the formula, we get:\n",
        "\n",
        "$ \\text{Confidence Interval} = 800,000 \\pm 1.65 \\left(\\frac{90,000}{\\sqrt{81}}\\right) $\n",
        "\n",
        "Solving this, we get the 90% confidence interval for the population mean 𝜇: **783,500** to **816,500**.\n",
        "\n",
        "**d) 50% Confidence Interval:**\n",
        "For a 50% confidence interval, the critical value is approximately 0.67. Using the formula, we get:\n",
        "\n",
        "$ \\text{Confidence Interval} = 800,000 \\pm 0.67 \\left(\\frac{90,000}{\\sqrt{81}}\\right) $\n",
        "\n",
        "Solving this, we get the 50% confidence interval for the population mean 𝜇: **793,300** to **806,700**.\n",
        "\n",
        "\n",
        "**e) Interpretation of Confidence Intervals:**\n",
        "A confidence interval represents the range of values within which we are reasonably confident the true population parameter (in this case, the mean house price) lies. For example, the 98% confidence interval tells us that we are 98% confident that the true population mean house price falls between 776,700 and 823,300.\n",
        "\n",
        "**f) Intuition:**\n",
        "- Higher confidence levels (e.g., 98%) result in wider intervals because we want to be more certain.\n",
        "- Smaller sample sizes lead to wider intervals because we have less information.\n",
        "- Larger sample sizes lead to narrower intervals because we have more precise estimates.\n",
        "\n",
        "**g) Sample Size for 99% Confidence Interval:**\n",
        "To achieve a 99% confidence interval with a margin of error less than or equal to 5,000, we can use the formula:\n",
        "\n",
        "$ n = \\left(\\frac{z s}{ME}\\right)^2 $\n",
        "\n",
        "where:\n",
        "- $ME$ is the desired margin of error (5,000).\n",
        "- $z$ is the critical value for a 99% confidence level (approximately 2.57).\n",
        "\n",
        "Plugging in the values:\n",
        "$ n = \\left(\\frac{2.57 \\times 90,000}{5,000}\\right)^2 $\n",
        "\n",
        "Solving for $n$, we get approximately **2,140** houses should be sampled.\n",
        "\n",
        "**h) Decreasing Margin of Error to $2,500:**\n",
        "To achieve a margin of error of 2,500, we adjust the formula:\n",
        "\n",
        "$ n = \\left(\\frac{2.57 \\times 90,000}{2,500}\\right)^2 $\n",
        "\n",
        "Solving for $n$, we find that approximately **8,560** houses should be sampled.\n",
        "\n",
        "When we decrease margin of the error, becuase we want to more precise results, we expect to have a larger sample size. In this case, the margin of the error is divided by 2 and according to the formula, we expect to have 4 times larger sample size and based on the results this is true."
      ],
      "metadata": {
        "id": "CoYjRbDN-kNM"
      }
    },
    {
      "cell_type": "markdown",
      "source": [
        "# Q2"
      ],
      "metadata": {
        "id": "FDdXQeJTC4ZX"
      }
    },
    {
      "cell_type": "markdown",
      "source": [
        "Based on research, on average, high school teens spend almost seven hours each weekday on educational activities. You think that this is underestimated and want to collect your own sample for a hypothesis test. You randomly sample 70 students from your dorm and find that on average they spend 10 hours each weekday on education activity. One of your friends wants to help you and comes up with the following hypothesis. Indicate any error you see.\n",
        "\n",
        "$𝐻_0$: 𝑥̅ < 7 ℎ𝑜𝑢𝑟𝑠\n",
        "\n",
        "$𝐻_A$ : 𝑥̅ >10 ℎ𝑜𝑢𝑟𝑠"
      ],
      "metadata": {
        "id": "POPWNABjI-WJ"
      }
    },
    {
      "cell_type": "markdown",
      "source": [
        "## Answer:"
      ],
      "metadata": {
        "id": "NPQLLokWKG57"
      }
    },
    {
      "cell_type": "markdown",
      "source": [
        "These hypotheses have a couple of errors. Let's talk about the,:\n",
        "\n",
        "1. **Null Hypothesis ($𝐻_0$):**\n",
        "   - The friend's null hypothesis states: $H_0: \\bar{x} < 7$ hours.\n",
        "   - The null hypothesis should represent the default assumption. In this case, the assumption is that high school teens spend an average of 7 hours on educational activities each weekday.\n",
        "   - However, the friend's null hypothesis incorrectly assumes that the average time spent is less than 7 hours, which contradicts the common understanding.\n",
        "   - The correct null hypothesis should be: $H_0: \\bar{x} = 7$ hours.\n",
        "\n",
        "2. **Alternative Hypothesis ($𝐻_A$):**\n",
        "   - The friend's alternative hypothesis states: $H_A: \\bar{x} > 10$ hours.\n",
        "   - The alternative hypothesis represents the claim or the effect we want to test.\n",
        "   - In this case, the friend's alternative hypothesis suggests that the average time spent is greater than 10 hours, which is not consistent with the suspicion that the current estimate of 7 hours is underestimated.\n",
        "   - The correct alternative hypothesis should be: $H_A: \\bar{x} > 7$ hours.\n",
        "\n"
      ],
      "metadata": {
        "id": "etKOpa42PJS0"
      }
    },
    {
      "cell_type": "markdown",
      "source": [
        "# Q3"
      ],
      "metadata": {
        "id": "YVeIBHRSD_qp"
      }
    },
    {
      "cell_type": "markdown",
      "source": [
        "A mayor claims that in his small city, which is renowned for its music school, the average child takes at least 5 years of piano lessons. We have a random sample of 20 children from the city, with a mean of 4.6 years of piano lessons and a standard deviation of 2.2 years.\n",
        "-   Evaluate his claim using a hypothesis test (assume 𝛼 = 0.05).\n",
        "\n",
        "-   Construct a 95% confidence interval for the number of years students in this city take piano lessons and interpret it in the context of the data.\n",
        "-   Do your results from the hypothesis test and the confidence interval agree? Explain your reasoning."
      ],
      "metadata": {
        "id": "3X11XBz_QmZ3"
      }
    },
    {
      "cell_type": "markdown",
      "source": [
        "## Answer:"
      ],
      "metadata": {
        "id": "cwh0cXqcRBEz"
      }
    },
    {
      "cell_type": "markdown",
      "source": [
        "**a) Hypothesis test:**  \n",
        "- We want to evaluate the mayor's claim that the average child in the city takes at least 5 years of piano lessons.\n",
        "   - Our hypotheses are as follows:\n",
        "   - Null hypothesis ($H_0$): The average duration of piano lessons is 5 years or more. Becuase we should have an equality we write this in the following shape: ($H_0: 𝑥̅ = 5$).\n",
        "   - Alternative hypothesis ($H_A$): The average duration of piano lessons is less than 5 years($H_A: 𝑥̅ < 5$).\n",
        "\n",
        "- Given data:\n",
        "     - Sample mean ($x̄$): 4.6 years\n",
        "     - Sample standard deviation ($s$): 2.2 years\n",
        "     - Sample size ($n$): 20\n",
        "\n",
        "- Now we should compute p-value:\n",
        "    - p-value = $P(x̄ < 4.6|H_0: 𝑥̅ = 5)$\n",
        "    - $s = 2.2, n = 20 => SE = 0.49 $\n",
        "    - $x̄ => N(μ = 5, SE = 0.49) $\n",
        "    - to compute test statistics, we should have z-value: $Z = \\frac{4.6 - 5}{0.49} = -0.81 $\n",
        "    - p-value = $P(Z < -0.81) = 0.211$\n",
        "\n",
        "-  Since the p-value (0.211) is greater than the significance level ($α = 0.05$), we fail to reject the null hypothesis. There is not significant evidence to conclude that the average child takes less than 5 years of piano lessons. mayor's claim cannot be rejected.\n",
        "\n",
        "\n",
        "**b) Confidence Interval:**\n",
        "- We'll construct a 95% confidence interval for the true population mean years of piano lessons. The formula for the confidence interval is:\n",
        "\n",
        "\n",
        "$ \\text{Confidence Interval} = \\bar{x} \\pm z \\left(\\frac{s}{\\sqrt{n}}\\right) $\n",
        "\n",
        "- Using a standard normal distribution table, the critical value for a 95% confidence level is approximately 1.96.\n",
        "- Plugging in the values:\n",
        "  $ \\text{Confidence Interval} = 4.6 \\pm 1.96 \\left(\\frac{2.2}{\\sqrt{20}}\\right) $\n",
        "\n",
        "Solving this, we get the 95% confidence interval: **3.64 to 5.56 years**.\n",
        "\n",
        "**Interpretation of Confidence Interval:**\n",
        "We are 95% confident that the true population mean years of piano lessons taken by the average child in this small city falls between 3.64 and 5.56 years.\n",
        "\n",
        "**c):**\n",
        "- The results from the hypothesis test and the confidence interval agree. Both suggest that mayor's claim cannot be rejected. The confidence interval contains values greater than 5 years, and the hypothesis test did not provide significant evidence against the null hypothesis."
      ],
      "metadata": {
        "id": "aFK6hu4aK4ft"
      }
    },
    {
      "cell_type": "markdown",
      "source": [
        "# Q4"
      ],
      "metadata": {
        "id": "b3H0poOQE3y-"
      }
    },
    {
      "cell_type": "markdown",
      "source": [
        "A study suggests that the normal body temperature in degrees Fahrenheit is 98.6 .\n",
        "doctor believes that this is an underestimate and decides to collect her own sample for a hypothesis test of 52 randomly chosen healthy adults. The body temperature of samples is measured with the following summary of the data:\n",
        "\n",
        "$𝑛  = 52, 𝑥̅ =  98.2846 , 𝑠  = 0.6824$\n",
        "\n",
        "\n",
        "-   Are the necessary conditions satisfied? Explain.\n",
        "-   Write the null and alternative hypotheses.\n",
        "-   Find a 98% confidence interval for the mean body temperature and make decision based on this confidence interval.\n",
        "-   Give a two-side hypothesis test for a mean body temperature of 98.6 Fahrenheit\n",
        "and use the information above to evaluate a test with significance level α = 0.02."
      ],
      "metadata": {
        "id": "sO1Yf8ONY5Ur"
      }
    },
    {
      "cell_type": "markdown",
      "source": [
        "## Answer:"
      ],
      "metadata": {
        "id": "8cvnfpAwbxOi"
      }
    },
    {
      "cell_type": "markdown",
      "source": [
        "**a) Necessary Conditions:**\n",
        "- **Independence:** Sample observations must be independent.\n",
        "    - random sample/assignment\n",
        "    - if sampling without replacement, n < 10% population\n",
        "    - According to the question, the sample is random. The whole population is all of the adults and definitely our sample size is less than 10% of population. So this condition is satisfied.\n",
        "- **Sample Size/Skew:** $n ≥ 30$ larger if the population distribution is very skewed. Our sample size is 52 and it seems that our distribution is normal so this sample size is sufficient and this condition is satisfied too.\n",
        "\n",
        "**b) Null and Alternative Hypothesis:**\n",
        "- Null Hypothesis ($H_0$): The average body temperature ($μ$) is 98.6°F. $H_0: μ = 98.6$\n",
        "- Alternative Hypothesis ($H_A$): The average body temperature ($μ$) is different from 98.6°F. $H_1: μ ≠ 98.6$\n",
        "\n",
        "**c) Confidence Interval:**\n",
        "\n",
        "$ \\text{Confidence Interval} = \\bar{x} \\pm z \\left(\\frac{s}{\\sqrt{n}}\\right) $\n",
        "\n",
        "- Using a standard normal distribution table, the critical value for a 98% confidence level is approximately 2.33.\n",
        "- Plugging in the values:\n",
        "  $ \\text{Confidence Interval} = 98.2846 \\pm 2.33 \\left(\\frac{0.6824}{\\sqrt{52}}\\right) $\n",
        "  Solving this, we get the 98% confidence interval: **98.0642 to 98.505 Fahrenheit**.\n",
        "\n",
        "**d) Two-side Hypothesis:** Given the null hypothesis $H_0: μ = 98.6$ and significance level $α = 0.02$, we'll perform a two-sided hypothesis test:\n",
        "\n",
        "- Given data:\n",
        "     - Sample mean ($x̄$): 98.2846\n",
        "     - Sample standard deviation ($s$): 0.6824\n",
        "     - Sample size ($n$): 52\n",
        "\n",
        "- Now we should compute p-value:\n",
        "    - p-value = $P(H_A |H_0: 𝑥̅ = 98.6)$\n",
        "    - $s = 0.6824, n = 52 => SE = 0.0946 $\n",
        "    - $x̄ => N(μ = 98.6, SE = 0.0946) $\n",
        "    - to compute test statistics, we should have z-value: $Z = \\frac{98.2846 - 98.6}{0.0946} = -3.334 $\n",
        "    - $P(Z < -3.334) = 0.0004$\n",
        "    - p-value $= 2 * 0.0004 = 0.0008$\n",
        "\n",
        "-  Since the p-value ($0.0008$) is less than the significance level ($α = 0.02$), we can reject the null hypothesis."
      ],
      "metadata": {
        "id": "ejjtd66Qb3QM"
      }
    },
    {
      "cell_type": "markdown",
      "source": [
        "# Q5"
      ],
      "metadata": {
        "id": "c5Lo3AMoGRFV"
      }
    },
    {
      "cell_type": "markdown",
      "source": [
        "A researcher designs a study to test the hypotheses $𝐻_0 : 𝜇 ≥ 28$ versus $𝐻_A : 𝜇 < 28$. A random sample of 50 measurements from the population of interest yields $𝑦̅ =\n",
        "25.9$ and $𝑠 = 5.6$.\n",
        "-   Using $𝛼 = 0.05$, what conclusions can you make about the hypotheses based on\n",
        "the sample information?\n",
        "-   Calculate the probability of making a Type II error if the actual value of $𝜇$ is at most 27.\n",
        "-   Could you have possibly made a Type II error in your decision in part $(a)$? Explain your answer."
      ],
      "metadata": {
        "id": "JWN9v6cW4NAA"
      }
    },
    {
      "cell_type": "markdown",
      "source": [
        "## Answer:"
      ],
      "metadata": {
        "id": "CX4ptYnL5Kr7"
      }
    },
    {
      "cell_type": "markdown",
      "source": [
        "**Testing Hypotheses:**\n",
        "\n",
        "- Null Hypothesis ($H_0$): The population mean ($μ$) is greater than or equal to 28.\n",
        "- Alternative Hypothesis ($H_A$): The population mean ($μ$) is less than 28.\n",
        "\n",
        "\n",
        "\n",
        "**Sample Information:**\n",
        "\n",
        "- Sample mean ($𝑦̅$​): 25.9\n",
        "- Sample standard deviation ($s$): 5.6\n",
        "- Sample size ($n$): 50\n",
        "\n",
        "\n",
        "- Now we should compute p-value:\n",
        "    - p-value = $P(H_A |H_0: 𝑥̅ = 28)$\n",
        "    - $s = 5.6, n = 50 => SE = 0.7919 $\n",
        "    - $x̄ => N(μ = 28, SE = 0.7919) $\n",
        "    - to compute test statistics, we should have z-value: $Z = \\frac{25.9 - 28}{0.7919} = -2.651 $\n",
        "    - p-value = $P(Z < -2.651) = 0.0040$\n",
        "\n",
        "-  Since the p-value ($0.0040$) is less than the significance level ($α = 0.05$), we can reject the null hypothesis.\n",
        "\n",
        "\n",
        "\n",
        "\n",
        "**Type II Error:**\n",
        "\n",
        "To calculate the probability of making a Type II error, we need the population mean under the alternative hypothesis.\n",
        "Let’s assume the actual population mean (μ) is 27.\n",
        "The alternative hypothesis (H₁) is that μ is less than 28.\n",
        "- power = 1 -Type II error = $1 - β = 1 - p(z <= z_a - \\frac{μ_a - μ}{SE})$\n",
        "- $power = 1 - p(z <= 1.64 - \\frac{28 - 27}{0.8})= 1 - p(z<= 0.395) = 0.346$\n",
        "\n",
        "**Type II Error in first part:**\n",
        "In the first part, we reject the null hypothesis while in Type II Error we should fail to reject the null hypothesis while it is incorrect. So we didn't have this scenario in part(a)."
      ],
      "metadata": {
        "id": "IT2mfD__5NrR"
      }
    },
    {
      "cell_type": "markdown",
      "source": [
        "# Q6"
      ],
      "metadata": {
        "id": "Z7lggpxR7JlE"
      }
    },
    {
      "cell_type": "markdown",
      "source": [
        "Refer to the previous exercise (Ex. 5). Sketch the power curve for rejecting $𝐻_0 : 𝜇 ≥ 28$ by determining ($𝜇_A$) for the following values of 𝜇: 22, 23, 24, 25, 26 and 27.\n",
        "\n",
        "-   Interpret the power values displayed in your graph.\n",
        "-   Suppose  we  keep  𝑛  =  50  but  change  to  𝛼  =  .01.  Without  actually recalculating the values for ($𝜇_A$ ), sketch on the same graph as your original\n",
        "power curve, the new power curve for 𝑛 = 50 and 𝛼 = .01.\n",
        "-   Suppose  we  keep  𝛼  =  .05  but  change  to  𝑛  =  20.  Without  actually recalculating the values for $𝑃𝑊𝑅(𝜇_A )$, sketch on the same graph as your\n",
        "original power curve the new power curve for 𝑛 = 20 and 𝛼 = .05."
      ],
      "metadata": {
        "id": "IaBeGRQv7NEs"
      }
    },
    {
      "cell_type": "markdown",
      "source": [
        "## Answer:"
      ],
      "metadata": {
        "id": "1H0dXFH08LYt"
      }
    },
    {
      "cell_type": "markdown",
      "source": [
        "With higher sample sizes and higher values of alpha we will have higher power values which indicates that we will reject null hypothesis with higher probablity. But the effect of alpha as we increase $𝜇_A$ is more sensible beucase it decreased power more than samller sample size."
      ],
      "metadata": {
        "id": "n3hvzF2k8O4Q"
      }
    },
    {
      "cell_type": "code",
      "source": [
        "# Define parameters\n",
        "n <- 50\n",
        "alpha <- 0.05\n",
        "SE <- 5.6 / sqrt(n)\n",
        "mu_values <- c(22, 23, 24, 25, 26, 27)\n",
        "z_alpha <- qnorm(1 - alpha)\n",
        "\n",
        "# Function to calculate power\n",
        "calculate_power <- function(mu_A, SE, z_alpha) {\n",
        "  power <- 1 - pnorm(z_alpha - (28 - mu_A) / SE )\n",
        "  return(power)\n",
        "}\n",
        "\n",
        "# Calculate power for each mu_A\n",
        "powers <- calculate_power(mu_values, SE, z_alpha)\n",
        "\n",
        "# Plot power curve\n",
        "plot(mu_values, powers, type = \"l\", ylim = c(0, 1),\n",
        "     xlab = expression(mu[A]), ylab = \"Power\",\n",
        "     main = \"Power Curve for Rejecting H_0: mu >= 28\")\n",
        "\n",
        "# Add points for each mu value\n",
        "points(mu_values, powers, pch = 19).\n",
        "\n",
        "# the new power curve for n = 50 and alpha = 0.01\n",
        "alpha_new <- 0.01\n",
        "z_alpha_new <- qnorm(1 - alpha_new)\n",
        "powers_new <- calculate_power(mu_values, SE, z_alpha_new)\n",
        "\n",
        "lines(mu_values, powers_new, col = \"red\")\n",
        "points(mu_values, powers_new, pch = 19)\n",
        "\n",
        "# the new power curve for n = 20 and alpha = 0.05\n",
        "n_new <- 20\n",
        "SE_new <- 5.6 / sqrt(n_new)\n",
        "z_alpha_new <- qnorm(1 - alpha)\n",
        "powers_new <- calculate_power(mu_values, SE_new, z_alpha_new)\n",
        "\n",
        "lines(mu_values, powers_new, col = \"blue\")\n",
        "points(mu_values, powers_new, pch = 19)\n",
        "# Add legend\n",
        "legend(\"topright\", legend = c(\"alpha = 0.05, n = 50\", \"alpha = 0.01, n = 50\", \"alpha = 0.05, n = 20\"),\n",
        "       col = c(\"black\", \"red\", \"blue\"), lty = 1)\n"
      ],
      "metadata": {
        "colab": {
          "base_uri": "https://localhost:8080/",
          "height": 437
        },
        "id": "cvvVZfn1ZZsw",
        "outputId": "b3258516-b6b2-4ead-bf69-265d0d9c9ca8"
      },
      "execution_count": 21,
      "outputs": [
        {
          "output_type": "display_data",
          "data": {
            "text/plain": [
              "Plot with title “Power Curve for Rejecting H_0: mu >= 28”"
            ],
            "image/png": "[encoded data removed]"
          },
          "metadata": {
            "image/png": {
              "width": 420,
              "height": 420
            }
          }
        }
      ]
    },
    {
      "cell_type": "markdown",
      "source": [
        "# Q7"
      ],
      "metadata": {
        "id": "Xaxn5S888wgd"
      }
    },
    {
      "cell_type": "markdown",
      "source": [
        "For this question, use the dataset \"Galton\" placed next to the exercise. This dataset includes the height of children and their parents. (Assume that the standard deviation of the society is unknown)\n",
        "Use the height of the children:\n",
        "\n",
        "- Generate 20000 samples of size 60 using sampling. Then calculate the 97% confidence interval for each of these samples. What percentage of the intervals include the real mean of the society?\n",
        "-   Repeat the above  test  for 10000 samples with size 10. This time, calculate the 90% confidence interval. What is your conclusion about\n",
        "these two tests?\n",
        "Now use the height of the father:\n",
        "-   Separate a sample with the size of 70 data from the mentioned data. Then\n",
        "check the following assumption and calculate the power.\n",
        "$𝐻_0: 𝜇 = 60$\n",
        "$𝐻_𝐴: 𝜇  ≠ 60$\n",
        "-   Now, isolate a sample of 10 data and repeat the above test and report the results.\n",
        "-   What do you get from comparing the above results?"
      ],
      "metadata": {
        "id": "Kj0y3V9a80tm"
      }
    },
    {
      "cell_type": "markdown",
      "source": [
        "## Answer:"
      ],
      "metadata": {
        "id": "kn3hyCct9ee8"
      }
    },
    {
      "cell_type": "code",
      "source": [
        "# Load necessary library\n",
        "library(dplyr)\n",
        "\n",
        "# Load the dataset Galton\n",
        "my_data <- read.delim(\"/content/Galton.txt\")"
      ],
      "metadata": {
        "id": "Q8MuiH8G9nBS"
      },
      "execution_count": null,
      "outputs": []
    },
    {
      "cell_type": "code",
      "source": [
        "# Extract the height of the children\n",
        "children_height <- my_data$Height"
      ],
      "metadata": {
        "id": "HgmjLPCWjKVF"
      },
      "execution_count": 3,
      "outputs": []
    },
    {
      "cell_type": "code",
      "source": [
        "# a. Generate 20000 samples of size 60 and calculate 97% confidence intervals\n",
        "set.seed(123) # for reproducibility\n",
        "n_samples <- 20000\n",
        "sample_size <- 60\n",
        "confidence_level <- 0.97"
      ],
      "metadata": {
        "id": "qlvpim61jYfQ"
      },
      "execution_count": 11,
      "outputs": []
    },
    {
      "cell_type": "code",
      "source": [
        "sample_means <- replicate(n_samples, mean(sample(children_height, size = sample_size)))\n",
        "z_value <- qnorm((1 + confidence_level) / 2)\n",
        "margin_of_error <- z_value * sd(children_height) / sqrt(sample_size)\n",
        "confidence_intervals <- tibble(\n",
        "  lower = sample_means - margin_of_error,\n",
        "  upper = sample_means + margin_of_error\n",
        ")\n",
        "real_mean <- mean(children_height)\n",
        "included <- sum(confidence_intervals$lower <= real_mean & confidence_intervals$upper >= real_mean)\n",
        "percentage_included <- (included / n_samples) * 100\n",
        "percentage_included"
      ],
      "metadata": {
        "colab": {
          "base_uri": "https://localhost:8080/",
          "height": 34
        },
        "id": "NCSiB43wkOds",
        "outputId": "43905565-de1b-4f1f-a2ab-03e23378e50d"
      },
      "execution_count": 12,
      "outputs": [
        {
          "output_type": "display_data",
          "data": {
            "text/html": [
              "97.68"
            ],
            "text/markdown": "97.68",
            "text/latex": "97.68",
            "text/plain": [
              "[1] 97.68"
            ]
          },
          "metadata": {}
        }
      ]
    },
    {
      "cell_type": "code",
      "source": [
        "# b. Repeat the test for 10000 samples with size 10 and calculate 90% confidence interval\n",
        "n_samples <- 10000\n",
        "sample_size <- 10\n",
        "confidence_level <- 0.90\n",
        "\n",
        "sample_means <- replicate(n_samples, mean(sample(children_height, size = sample_size)))\n",
        "z_value <- qnorm((1 + confidence_level) / 2)\n",
        "margin_of_error <- z_value * sd(children_height) / sqrt(sample_size)\n",
        "confidence_intervals <- tibble(\n",
        "  lower = sample_means - margin_of_error,\n",
        "  upper = sample_means + margin_of_error\n",
        ")\n",
        "real_mean <- mean(children_height)\n",
        "included <- sum(confidence_intervals$lower <= real_mean & confidence_intervals$upper >= real_mean)\n",
        "percentage_included <- (included / n_samples) * 100\n",
        "percentage_included"
      ],
      "metadata": {
        "colab": {
          "base_uri": "https://localhost:8080/",
          "height": 34
        },
        "id": "5_jw7kdzlAnj",
        "outputId": "8eb4023c-884e-48ee-db21-f3711d97eb38"
      },
      "execution_count": 13,
      "outputs": [
        {
          "output_type": "display_data",
          "data": {
            "text/html": [
              "90.43"
            ],
            "text/markdown": "90.43",
            "text/latex": "90.43",
            "text/plain": [
              "[1] 90.43"
            ]
          },
          "metadata": {}
        }
      ]
    },
    {
      "cell_type": "markdown",
      "source": [
        "**Conclusion:** Larger sample size with higher confidence intervals lead to a higher probability of including the true population mean."
      ],
      "metadata": {
        "id": "FB0HdYx1pspv"
      }
    }
  ]
}