{
  "nbformat": 4,
  "nbformat_minor": 0,
  "metadata": {
    "colab": {
      "provenance": []
    },
    "kernelspec": {
      "name": "ir",
      "display_name": "R"
    },
    "language_info": {
      "name": "R"
    }
  },
  "cells": [
    {
      "cell_type": "markdown",
      "source": [
        "# Assignment 5: Statistical Inference\n",
        "\n",
        "## **By: Melika Nobakhtian**"
      ],
      "metadata": {
        "id": "ZVfVgLYusSeN"
      }
    },
    {
      "cell_type": "markdown",
      "source": [
        "# Q1"
      ],
      "metadata": {
        "id": "-lzphA6p8xRU"
      }
    },
    {
      "cell_type": "markdown",
      "source": [
        "The General Social Survey asked a random sample of 1,390 Americans the following question: “On the whole, do you think it should or should not be the government’s responsibility to promote equality between men and women?” 82% of the respondents said it “should be”. At a 95% confidence level, this sample has 2% margin of error. Based on this information, determine if the following statements are true or false, and explain your reasoning.\n",
        "\n",
        "*    We are 95% confident that between 80% and 84% of Americans in this sample think it’s the government’s responsibility to promote equality between men and women.\n",
        "*   We  are  95%  confident  that  between  80%  and  84%  of  all  Americans  think it’s the government’s responsibility to promote equality between men and women.\n",
        "* If we considered many random samples of 1,390 Americans, and we calculated 95% confidence intervals for each, 95% of these intervals would include the true population proportion of Americans who think it’s the government’s responsibility to promote\n",
        "equality between men and women.\n",
        "*   In order to decrease the margin of error to 1%, we would need to quadruple (multiply by\n",
        "4) the sample size.\n",
        "*   Based on this confidence interval, there is sufficient evidence to conclude that a majority of Americans think it’s the government’s responsibility to promote equality between men\n",
        "and women."
      ],
      "metadata": {
        "id": "j81JIwgA85P5"
      }
    },
    {
      "cell_type": "markdown",
      "source": [
        "## Answer:"
      ],
      "metadata": {
        "id": "hQlBhqBWBTdV"
      }
    },
    {
      "cell_type": "markdown",
      "source": [
        "- **a)** **True**. The margin of error is 2%, so the confidence interval around the sample proportion of 82% would be ±2%. Therefore, we are 95% confident that the true population proportion falls within the interval of 80% to 84%.\n",
        "- **b)** **False**. While we are confident about the sample proportion falling within the interval of 80% to 84%, we cannot make a statement about all Americans unless we have data from the entire population.\n",
        "- **c)** **True**. By the definition of the confidence level, the interpretation of a 95% confidence level is that in the long run, 95% of confidence intervals constructed in this manner will contain the true population parameter\n",
        "- **d)** **True**. Quadrupling the sample size decreases the SE and ME by a factor of $\\frac{1}{\\sqrt{4}} = \\frac{1}{2}$.\n",
        "- **e)** **True**. Since the confidence interval includes values above 50% (the majority threshold), there is sufficient evidence to conclude that a majority of Americans think it's the government's responsibility to promote equality between men and women."
      ],
      "metadata": {
        "id": "ZMGvs27DBXvX"
      }
    },
    {
      "cell_type": "markdown",
      "source": [
        "# Q2"
      ],
      "metadata": {
        "id": "kW0lc5ZUF6UV"
      }
    },
    {
      "cell_type": "markdown",
      "source": [
        "In July 2008, the US National Institutes of Health announced that it was stopping a clinical study early because of unexpected results. The study population consisted of HIV-infected women in sub-Saharan Africa who had been given a single dose of Nevirapine (a treatment for HIV) while giving birth to prevent transmission of HIV to the infant. The study was a randomized comparison of continued treatment of a woman (after successful childbirth) with Nevirapine vs. Lopinavir, a second drug used to treat HIV. 240 women participated in the study; 120 were randomized to each of the two treatments. Twenty-four weeks after starting the study treatment, each woman was tested to determine if the HIV infection was becoming worse (an outcome called virologic failure). 26 of the 120 women treated with Nevirapine experienced virologic failure, while 10 of the 120 women treated with the other drug experienced virologic failure.\n",
        "\n",
        "-  Create a two-way table presenting the results of this study.\n",
        "\n",
        "-   State appropriate hypotheses to test for difference in virologic failure rates between\n",
        "treatment groups.\n",
        "- Complete the hypothesis test and state an appropriate conclusion. (Reminder: Verify any necessary conditions for the test.)"
      ],
      "metadata": {
        "id": "OmHiVvyaF9aN"
      }
    },
    {
      "cell_type": "markdown",
      "source": [
        "# Answer:"
      ],
      "metadata": {
        "id": "uE34hA9WGhrz"
      }
    },
    {
      "cell_type": "markdown",
      "source": [
        "\n",
        "\n",
        "### a.\n",
        "\n",
        "| Treatment       | Virologic Failure | No Virologic Failure | Total |\n",
        "|-----------------|-------------------|----------------------|-------|\n",
        "| Nevirapine      | 26                | 94                   | 120   |\n",
        "| Lopinavir       | 10                | 110                  | 120   |\n",
        "| **Total**       | **36**            | **204**              | **240**|\n",
        "\n",
        "### b.\n",
        "\n",
        "\n",
        "- **Null Hypothesis ($H_0$):** There is no difference in virologic failure rates between the Nevirapine and Lopinavir treatment groups. ( $ p_{\\text{Nevirapine}} - p_{\\text{Lopinavir}} = 0 $ )\n",
        "- **Alternative Hypothesis ($H_A$):** There is a difference in virologic failure rates between the Nevirapine and Lopinavir treatment groups. ( $ p_{\\text{Nevirapine}} - p_{\\text{Lopinavir}} \\neq 0 $ )\n",
        "\n",
        "### c.\n",
        "\n",
        "1. **Calculate the sample proportions:**\n",
        "   - Proportion of virologic failure in the Nevirapine group ($\\hat{p}_1) =  \\frac{26}{120} = 0.2167$\n",
        "   - Proportion of virologic failure in the Lopinavir group ($\\hat{p}_2 ) = \\frac{10}{120} = 0.0833 $\n",
        "\n",
        "2. **Calculate the pooled proportion ($\\hat{p}$ )and Verify conditions**:\n",
        "   -  $\\hat{p}_{pool} = \\frac{26 + 10}{120 + 120} = \\frac{36}{240} = 0.15 $\n",
        "\n",
        "   - The data must be independent: Assuming the randomization process was properly conducted, this condition is met.\n",
        "   - $n_1 \\hat{p}_{pool} > 10, 18 > 10$, we have the same for $n_2$\n",
        "\n",
        "3. **Calculate the standard error (SE):**\n",
        "   - $SE = \\sqrt{ \\left(\\frac{\\hat{p} \\left(1 - \\hat{p}\\right)}{n_1} + \\frac{\\hat{p} \\left(1 - \\hat{p}\\right)}{n_2}\\right)} = \\sqrt{ \\left(\\frac{0.15 \\times 0.85}{120} + \\frac{0.15 \\times 0.85}{120}\\right)}$\n",
        "   - $ SE = \\sqrt{0.00212575} $\n",
        "   - $ SE \\approx 0.0461 $\n",
        "\n",
        "4. **Calculate the z-score:**\n",
        "   - $ z = \\frac{\\hat{p}_1 - \\hat{p}_2}{SE} = \\frac{0.2167 - 0.0833}{0.0461} $\n",
        "\n",
        "   - $ z \\approx \\frac{0.1334}{0.0461} $\n",
        "   - $ z \\approx 2.894 $\n",
        "\n",
        "5. **Determine the p-value:**\n",
        "   - Now we should find the p-value associated with the z-score of 2.894. Since this is a two-tailed test, we need to consider both tails of the distribution.\n",
        "   - The p-value for $ z = 2.894 $ is approximately 0.001902 (one-tailed), so for a two-tailed test, it would be $ 2 \\times 0.001902 = 0.003804 .\n",
        "\n",
        "6. **Compare the p-value to the significance level (α):**\n",
        "   - We assume a significance level of $ \\alpha = 0.05 $.\n",
        "   - Since $ 0.003804 < 0.05 $, we reject the null hypothesis.\n",
        "\n",
        "Based on the test, we reject the null hypothesis at the 0.05 significance level. This indicates that there is a statistically significant difference in virologic failure rates between the Nevirapine and Lopinavir treatment groups."
      ],
      "metadata": {
        "id": "EgfNaqaJJl64"
      }
    },
    {
      "cell_type": "markdown",
      "source": [
        "# Q3"
      ],
      "metadata": {
        "id": "WprUsh0aXm9N"
      }
    },
    {
      "cell_type": "markdown",
      "source": [
        "Two different question phrasings are being used to compare the 2010 healthcare law approval. Depending on how a question is phrased, a person may respond differently. For instance, Pew Research Center conducted a survey with the following question:\n",
        "\n",
        "\n",
        "***As you may know, by 2014, nearly all Americans will be required to have health insurance. [People who do not buy insurance will pay a penalty] while [People who cannot afford it will receive financial help from the government].***\n",
        "\n",
        "\n",
        " Do you approve or disapprove of this policy?\n",
        "For each randomly sampled respondent, the statements in brackets were randomized: either they were kept in the order given above, or the two statements were reversed. The following table shows the results of this experiment. Create and interpret a 90% confidence interval of the\n",
        "difference in approval."
      ],
      "metadata": {
        "id": "k40jp1pCXunt"
      }
    },
    {
      "cell_type": "markdown",
      "source": [
        "![Screenshot (1382).png](data:image/png;base64,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)"
      ],
      "metadata": {
        "id": "_Kc7n3-bYY2F"
      }
    },
    {
      "cell_type": "markdown",
      "source": [
        "## Answer:"
      ],
      "metadata": {
        "id": "X12QIRU-bXbQ"
      }
    },
    {
      "cell_type": "markdown",
      "source": [
        "\n",
        "We have two groups:\n",
        "1. \"People who cannot afford it will receive financial help from the government\" has approved.\n",
        "2. \"People who do not buy it will pay a penalty\" has approved.\n",
        "\n",
        "\n",
        "| Group                                                       | Sample Size ($ n $) | Approval Rate ($ \\hat{p} $) | Approval Count ($x$) |\n",
        "|-------------------------------------------------------------|-----------------------|------------------------------|--------------------------|\n",
        "| \"People who cannot afford it will receive financial help...\"| 771                   | 0.47                         | 363 |\n",
        "| \"People who do not buy it will pay a penalty\"               | 732                   | 0.34                         |  249|\n",
        "\n",
        "**Approval Count:**\n",
        "* $ 0.47 \\times 771 = 362.37 \\approx 363 $\n",
        "* $ 0.34 \\times 732 = 248.88 \\approx 249$\n",
        "\n",
        "**Difference in proportions:**\n",
        "\n",
        "$\\hat{p}_1 - \\hat{p}_2 = 0.47 - 0.34 = 0.13$\n",
        "\n",
        "\n",
        "**Calculate the Pooled Proportion:**\n",
        "\n",
        "\n",
        "- $\\hat{p}_{pool} = \\frac{\\text{total successes}}{\\text{total n}}$\n",
        "\n",
        "\n",
        "- $\\hat{p}_{pool} = \\frac{363 + 249}{771 + 732} = \\frac{612}{1503} \\approx 0.4071$\n",
        "\n",
        "**Condition Checking:**\n",
        "\n",
        "- **Random Sampling and Independence**\n",
        "Assume that the survey was conducted using random sampling and that the samples are independent from each other. Also the sample size is less than %10 of population.\n",
        "\n",
        "- **Sample Size Conditions**:\n",
        "    * $n_1 \\hat{p}_{pool} > 10, 771 × 0.4071 = 313.8 > 10$\n",
        "    * $n_2 \\hat{p}_{pool} > 10, 732 × 0.4071 = 297.9 > 10$\n",
        "\n",
        "Since all these conditions are met, we can proceed and use CLT.\n",
        "\n",
        "\n",
        "### Step 6: Calculate the Standard Error Using the Pooled Proportion\n",
        "\n",
        "**The standard error (SE):**\n",
        "- $\n",
        "SE = \\sqrt{\\hat{p}(1 - \\hat{p}) \\left(\\frac{1}{n_1} + \\frac{1}{n_2}\\right)}\n",
        "$\n",
        "\n",
        "-\n",
        "$SE = \\sqrt{0.4071 \\times (1 - 0.4071) \\left(\\frac{1}{771} + \\frac{1}{732}\\right)}\n",
        "$\n",
        "\n",
        "- $SE ≈ 0.0253$\n",
        "\n",
        "**Calculate the 90% Confidence Interval:**\n",
        "\n",
        "For a 90% confidence interval, the critical value $ z^* $ is approximately 1.645.\n",
        "\n",
        "The margin of error ($ME$) is given by:\n",
        "\n",
        "$\n",
        "ME = z^* \\times SE = 1.645 \\times 0.0253 \\approx 0.0416\n",
        "$\n",
        "\n",
        "The confidence interval is then:\n",
        "\n",
        "- $\n",
        "(\\hat{p}_1 - \\hat{p}_2) \\pm ME\n",
        "$\n",
        "\n",
        "- $\n",
        "0.13 \\pm 0.0416\n",
        "$\n",
        "\n",
        "- $(0.0884, 0.1716)$\n",
        "\n",
        "\n",
        "**Interpret the Confidence Interval:**\n",
        "\n",
        "The 90% confidence interval for the difference in approval rates between the two question phrasings is (0.0884, 0.1716). This means we are 90% confident that the true difference in approval rates between the two groups lies within this interval."
      ],
      "metadata": {
        "id": "uItRmTJOAn7w"
      }
    },
    {
      "cell_type": "markdown",
      "source": [
        "# Q4"
      ],
      "metadata": {
        "id": "q8PfDCOMIYQ4"
      }
    },
    {
      "cell_type": "markdown",
      "source": [
        "Rock-paper-scissors is a hand game played by two or more people where players choose to sign either rock, paper, or scissors with their hands. For your statistics class project, you want to evaluate whether players choose between these three options randomly, or if certain options are favored above others. You ask two friends to play rock-paper-scissors and count the times each option is played. The following table summarizes the data.\n",
        "\n",
        "Use these data to evaluate whether players choose between these three options randomly, or if certain options are favored above others. Make sure to clearly outline each step of your analysis, and interpret your result in the context of the data and the research question.\n",
        "\n",
        "| Rock        | Scissors | Paper |\n",
        "|-------------------------------------------------------------|-----------------------|------------------------------\n",
        "| 43| 21                   | 35                         |\n",
        "\n"
      ],
      "metadata": {
        "id": "0ABvqNcTIb_k"
      }
    },
    {
      "cell_type": "markdown",
      "source": [
        "## Answer:"
      ],
      "metadata": {
        "id": "ahBVjpS8JQVb"
      }
    },
    {
      "cell_type": "markdown",
      "source": [
        "**The Hypothesis:**\n",
        "\n",
        "- **Null Hypothesis ($H_0$)**: Players choose rock, paper, and scissors with equal probability, meaning the choices are random.\n",
        "- **Alternative Hypothesis ($H_a$)**: Players do not choose rock, paper, and scissors with equal probability, meaning certain options are favored.\n",
        "\n",
        "**The Expected Count:**\n",
        "\n",
        "If players are choosing randomly, each of the three options (rock, paper, scissors) should be chosen with equal probability. Therefore, the expected count for each choice is the total number of games divided by 3.\n",
        "\n",
        "$\\text{Total} = 43 + 21 + 35 = 99\n",
        "$\n",
        "\n",
        "The expected count for each choice is:\n",
        "\n",
        "$\n",
        "\\text{Expected Count (E)} = \\frac{99}{3} = 33\n",
        "$\n",
        "\n",
        "**Calculate the Chi-Square Test Statistic:**\n",
        "\n",
        "The chi-square test statistic is calculated using the formula:\n",
        "\n",
        "$\n",
        "\\chi^2 = \\sum \\frac{(O_i - E_i)^2}{E_i}\n",
        "$\n",
        "\n",
        "where $O_i$ is the observed count and $E_i$ is the expected count.\n",
        "\n",
        "$\n",
        "\\chi^2 = \\frac{(43 - 33)^2}{33} + \\frac{(21 - 33)^2}{33} + \\frac{(35 - 33)^2}{33} = 7.51\n",
        "$\n",
        "\n",
        "\n",
        "\n",
        "**the Degrees of Freedom and the p-value:**\n",
        "\n",
        "The degrees of freedom for this test is the number of cells minus 1. Here, we have three cells (rock, scissors, paper), so the degrees of freedom is:\n",
        "\n",
        "$\n",
        "\\text{df} = 3 - 1 = 2\n",
        "$\n",
        "\n",
        "Using a chi-square distribution with $df=2$, we should find the p-value for $\\chi^2$($\\alpha = 0.05$):\n",
        "\n",
        "$\n",
        "\\text{p-value} = 0.0234\n",
        "$\n",
        "\n",
        "**Compare the Test Statistic to p-value:**\n",
        "Because $0.05 > 0.0234 $, we reject the null hypothesis.\n",
        "\n",
        "**Interpretation:**\n",
        "\n",
        "Based on the chi-square goodness-of-fit test, there is sufficient evidence to conclude that players do not choose rock, paper, and scissors with equal probability. In other words, certain options are favored above others in this game. This suggests that players might have a preference or bias towards choosing certain options more frequently than others."
      ],
      "metadata": {
        "id": "IVBbSEXKJTSL"
      }
    },
    {
      "cell_type": "markdown",
      "source": [
        "# Q5"
      ],
      "metadata": {
        "id": "fXtpueBrWI92"
      }
    },
    {
      "cell_type": "markdown",
      "source": [
        "A Restaurant Manager for a Football Park wants to know if there is a relationship between gender (male or female) and the preferred condiment on a sandwich. The following table summarizes the results. Test the hypothesis with a significance level of 5%.\n",
        "\n",
        "![Screenshot(1386).png](data:image/png;base64,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)"
      ],
      "metadata": {
        "id": "_FyH6AvEWXe_"
      }
    },
    {
      "cell_type": "markdown",
      "source": [
        "## Answer:"
      ],
      "metadata": {
        "id": "wU4Efo-2Y7SA"
      }
    },
    {
      "cell_type": "markdown",
      "source": [
        " **The Hypothesis:**\n",
        "\n",
        "- **Null Hypothesis ($H_0$)**: There is no relationship between gender and the preferred condiment (i.e., gender and condiment preference are independent).\n",
        "- **Alternative Hypothesis ($H_A$)**: There is a relationship between gender and the preferred condiment (i.e., gender and condiment preference are not independent).\n",
        "\n",
        "**Calculate the Expected Counts:**\n",
        "\n",
        "The expected count for each cell can be calculated using the formula:\n",
        "\n",
        "$\n",
        "Expected Count = \\frac{( \\text{Row Total} ) ( \\text{Column Total} )}{ \\text{Total Table} }\n",
        "$\n",
        "\n",
        "The expected count for males who prefer ketchup is:\n",
        "\n",
        "$\n",
        "E_{1,1} = \\frac{48 \\times 40}{100} = 19.2\n",
        "$\n",
        "\n",
        "The expected count for all cells:\n",
        "\n",
        "$\n",
        "\\begin{array}{c|ccc}\n",
        "            & \\text{Ketchup} & \\text{Mustard} & \\text{Relish} \\\\\n",
        "\\hline\n",
        "\\text{Male} & 19.2           & 20.16          & 8.64          \\\\\n",
        "\\text{Female} & 20.8           & 21.84          & 9.36          \\\\\n",
        "\\end{array}\n",
        "$\n",
        "\n",
        "**Calculate the Chi-Square Test Statistic:**\n",
        "Using the formula from the last problem:\n",
        "\n",
        "$\n",
        "\\chi^2 = \\frac{(15 - 19.2)^2}{19.2} + \\frac{(23 - 20.16)^2}{20.16} + \\frac{(10 - 8.64)^2}{8.64} + \\frac{(25 - 20.8)^2}{20.8} + \\frac{(19 - 21.84)^2}{21.84} + \\frac{(8 - 9.36)^2}{9.36} = 2.95\n",
        "$\n",
        "\n",
        "\n",
        "\n",
        "**Determine the Degrees of Freedom and  p-value:**\n",
        "\n",
        "The degrees of freedom for this test is:\n",
        "\n",
        "$\n",
        "df = ( R - 1 ) \\times ( C - 1 ) = (2 - 1) \\times (3 - 1) = 2\n",
        "$\n",
        "\n",
        "Using a chi-square distribution with $\\alpha = 0.05$ and $df = 2$:\n",
        "\n",
        "$p-value = 0.2287$\n",
        "\n",
        "**Compare the Test Statistic to p-value:**\n",
        "Because $0.05 < 0.2287$, we could not reject the null hypothesis.\n",
        "\n",
        "**Interpretation:**\n",
        "\n",
        "Based on the chi-square test of independence, there is no significant evidence to suggest a relationship between gender and preferred condiment. In other words, the preference for condiments (ketchup, mustard, or relish) does not appear to be dependent on gender among the sampled individuals."
      ],
      "metadata": {
        "id": "smT-dSGdY-vX"
      }
    },
    {
      "cell_type": "markdown",
      "source": [
        "# Q6"
      ],
      "metadata": {
        "id": "7m8MLQ0fdhkg"
      }
    },
    {
      "cell_type": "markdown",
      "source": [
        "During a five-day workweek, employers are interested in knowing which days employees are absent. It is usually believed by employers that employees are absent equally throughout the week. In this scenario, a random sample of 70 managers is asked what day of the week they had the highest number of employee absences. The results were distributed as in Table 7.1. For the population of employees, do the days for the highest number of absences occur with equal frequencies during a five-day workweek? Test at a 5% significance level. (Using a chi-square test)\n",
        "\n",
        "|      | Monday | Tuesday | Wednesday | Thursday | Friday|\n",
        "|------|--------|---------|-----------|----------|-------|\n",
        "| Number of Absences| 18| 16| 10  | 10 |16"
      ],
      "metadata": {
        "id": "4XkBaPYngcvE"
      }
    },
    {
      "cell_type": "markdown",
      "source": [
        "## Answer:"
      ],
      "metadata": {
        "id": "3aap1lASiE6J"
      }
    },
    {
      "cell_type": "markdown",
      "source": [
        "**The Hypothesis**:\n",
        "   - Null Hypothesis ($H_0$): The days of the highest number of absences occur with equal frequencies.\n",
        "   - Alternative Hypothesis ($H_A$): The days of the highest number of absences do not occur with equal frequencies.\n",
        "\n",
        "\n",
        "\n",
        "**Expected Counts**:\n",
        "   If the absences are equally distributed, the expected count for each day would be the total number of responses divided by the number of days, which is $\\frac{70}{5 }= 14$.\n",
        "\n",
        "**Chi-Square Test**:"
      ],
      "metadata": {
        "id": "p-U5uvLIiQWq"
      }
    },
    {
      "cell_type": "code",
      "source": [
        "observed <- c(Monday = 12, Tuesday = 9, Wednesday = 18, Thursday = 16, Friday = 15)\n",
        "\n",
        "expected <- expected <- rep(sum(observed) / length(observed), length(observed))\n",
        "\n",
        "chi_square_test <- chisq.test(observed, p = expected, rescale.p = TRUE)\n",
        "\n",
        "print(chi_square_test)\n",
        "\n",
        "if (chi_square_test$p.value < 0.05) {\n",
        "  print(\"Reject the null hypothesis: The days for the highest number of absences do not occur with equal frequencies.\")\n",
        "} else {\n",
        "  print(\"Fail to reject the null hypothesis: The days for the highest number of absences occur with equal frequencies.\")\n",
        "}\n"
      ],
      "metadata": {
        "id": "VeisXzHjknVF",
        "colab": {
          "base_uri": "https://localhost:8080/"
        },
        "outputId": "44e6fdb9-6711-4907-a516-d2edf0fadc56"
      },
      "execution_count": 8,
      "outputs": [
        {
          "output_type": "stream",
          "name": "stdout",
          "text": [
            "\n",
            "\tChi-squared test for given probabilities\n",
            "\n",
            "data:  observed\n",
            "X-squared = 3.5714, df = 4, p-value = 0.4671\n",
            "\n",
            "[1] \"Fail to reject the null hypothesis: The days for the highest number of absences occur with equal frequencies.\"\n"
          ]
        }
      ]
    },
    {
      "cell_type": "markdown",
      "source": [
        "# Q7"
      ],
      "metadata": {
        "id": "gROMGythouDh"
      }
    },
    {
      "cell_type": "markdown",
      "source": [
        " Consider the dataset named “survey” in the “MASS” library in R. The Smoke column records the students’ smoking habit, while the “Exer” column records their exercise level. Test the hypothesis of whether the students’ smoking habit is independent of their exercise level at\n",
        "the 0.05 significance level."
      ],
      "metadata": {
        "id": "kt-2jlIEoxn9"
      }
    },
    {
      "cell_type": "code",
      "source": [
        "library(MASS)\n",
        "tbl <- table(survey$Smoke, survey$Exer)\n",
        "tbl"
      ],
      "metadata": {
        "colab": {
          "base_uri": "https://localhost:8080/",
          "height": 126
        },
        "id": "SP1200Niow9L",
        "outputId": "688f6fa6-1700-474c-8429-f1562d670da5"
      },
      "execution_count": 10,
      "outputs": [
        {
          "output_type": "display_data",
          "data": {
            "text/plain": [
              "       \n",
              "        Freq None Some\n",
              "  Heavy    7    1    3\n",
              "  Never   87   18   84\n",
              "  Occas   12    3    4\n",
              "  Regul    9    1    7"
            ]
          },
          "metadata": {}
        }
      ]
    },
    {
      "cell_type": "code",
      "source": [
        "result = chisq.test(tbl)\n",
        "result"
      ],
      "metadata": {
        "colab": {
          "base_uri": "https://localhost:8080/",
          "height": 145
        },
        "id": "oB3uwvNxngU9",
        "outputId": "e8ac9e1b-c763-4795-fdfa-2c30b3caeade"
      },
      "execution_count": 11,
      "outputs": [
        {
          "output_type": "stream",
          "name": "stderr",
          "text": [
            "Warning message in chisq.test(tbl):\n",
            "“Chi-squared approximation may be incorrect”\n"
          ]
        },
        {
          "output_type": "display_data",
          "data": {
            "text/plain": [
              "\n",
              "\tPearson's Chi-squared test\n",
              "\n",
              "data:  tbl\n",
              "X-squared = 5.4885, df = 6, p-value = 0.4828\n"
            ]
          },
          "metadata": {}
        }
      ]
    },
    {
      "cell_type": "code",
      "execution_count": 14,
      "metadata": {
        "id": "bLMCb-lqyUof",
        "colab": {
          "base_uri": "https://localhost:8080/"
        },
        "outputId": "f7068e7c-d90c-49b2-f7bc-cec10371ff0b"
      },
      "outputs": [
        {
          "output_type": "stream",
          "name": "stdout",
          "text": [
            "[1] \"Fail to reject the null hypothesis: Smoking habit is independent of exercise level.\"\n"
          ]
        }
      ],
      "source": [
        "if (result$p.value < 0.05) {\n",
        "  print(\"Reject the null hypothesis: Smoking habit is dependent of exercise level.\")\n",
        "} else {\n",
        "  print(\"Fail to reject the null hypothesis: Smoking habit is independent of exercise level.\")\n",
        "}"
      ]
    }
  ]
}